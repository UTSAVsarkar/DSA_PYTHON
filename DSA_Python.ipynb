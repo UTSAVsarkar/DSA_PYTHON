{
  "nbformat": 4,
  "nbformat_minor": 0,
  "metadata": {
    "colab": {
      "provenance": [],
      "authorship_tag": "ABX9TyPfldbL0w7hL+8X9/VhDTEK",
      "include_colab_link": true
    },
    "kernelspec": {
      "name": "python3",
      "display_name": "Python 3"
    },
    "language_info": {
      "name": "python"
    }
  },
  "cells": [
    {
      "cell_type": "markdown",
      "metadata": {
        "id": "view-in-github",
        "colab_type": "text"
      },
      "source": [
        "<a href=\"https://colab.research.google.com/github/UTSAVsarkar/DSA_PYTHON/blob/main/DSA_Python.ipynb\" target=\"_parent\"><img src=\"https://colab.research.google.com/assets/colab-badge.svg\" alt=\"Open In Colab\"/></a>"
      ]
    },
    {
      "cell_type": "markdown",
      "source": [
        "# **SORTING**"
      ],
      "metadata": {
        "id": "wiDk0PlpoF3F"
      }
    },
    {
      "cell_type": "markdown",
      "source": [
        "Selection Sort"
      ],
      "metadata": {
        "id": "9RyQgoPPoKiD"
      }
    },
    {
      "cell_type": "code",
      "execution_count": 1,
      "metadata": {
        "colab": {
          "base_uri": "https://localhost:8080/"
        },
        "id": "1KvDMxlEoCz1",
        "outputId": "474c991c-4279-43e9-ce9a-4edcf619cc5b"
      },
      "outputs": [
        {
          "output_type": "stream",
          "name": "stdout",
          "text": [
            "[9, 13, 20, 24, 52, 46]\n"
          ]
        }
      ],
      "source": [
        "def selection_sort(arr):\n",
        "  n = len(arr)\n",
        "\n",
        "  for i in range(0, n-2):\n",
        "    mini = i\n",
        "    for j in range(i+1, n):\n",
        "      if arr[j] < arr[mini]:\n",
        "        mini = j\n",
        "    arr[i], arr[mini] = arr[mini], arr[i]\n",
        "\n",
        "  return arr\n",
        "\n",
        "arr = [13, 46, 24, 52, 20, 9]\n",
        "print(selection_sort(arr))"
      ]
    },
    {
      "cell_type": "markdown",
      "source": [
        "Bubble Sort"
      ],
      "metadata": {
        "id": "cPtkIgEMtYIs"
      }
    },
    {
      "cell_type": "code",
      "source": [
        "def bubble_sort(arr):\n",
        "  n = len(arr)\n",
        "\n",
        "  for i in range(n-1):\n",
        "    for j in range(n-i-1):\n",
        "      if arr[j] > arr[j+1]:\n",
        "        arr[j], arr[j+1] = arr[j+1], arr[j]\n",
        "\n",
        "  return arr\n",
        "\n",
        "arr = [13, 46, 24, 52, 20, 9]\n",
        "print(bubble_sort(arr))"
      ],
      "metadata": {
        "colab": {
          "base_uri": "https://localhost:8080/"
        },
        "id": "3vfzQHh8ovZP",
        "outputId": "cfe99188-486b-429b-bcef-77eeb9f4d676"
      },
      "execution_count": 2,
      "outputs": [
        {
          "output_type": "stream",
          "name": "stdout",
          "text": [
            "[9, 13, 20, 24, 46, 52]\n"
          ]
        }
      ]
    },
    {
      "cell_type": "markdown",
      "source": [
        "Insertion Sort"
      ],
      "metadata": {
        "id": "1V6tMj9Rr9s2"
      }
    },
    {
      "cell_type": "code",
      "source": [
        "def insertion_sort(arr):\n",
        "  n = len(arr)\n",
        "\n",
        "  for i in range(n):\n",
        "    j = i\n",
        "    while j > 0 and arr[j-1] > arr[j]:\n",
        "      arr[j-1], arr[j] = arr[j], arr[j-1]\n",
        "      j -= 1\n",
        "\n",
        "  return arr\n",
        "\n",
        "arr = [13, 46, 24, 52, 20, 9]\n",
        "print(insertion_sort(arr))"
      ],
      "metadata": {
        "id": "JdcFY5CDszVA",
        "colab": {
          "base_uri": "https://localhost:8080/"
        },
        "outputId": "683a9ce3-ac6a-406f-cd33-9674751fc637"
      },
      "execution_count": 3,
      "outputs": [
        {
          "output_type": "stream",
          "name": "stdout",
          "text": [
            "[9, 13, 20, 24, 46, 52]\n"
          ]
        }
      ]
    },
    {
      "cell_type": "markdown",
      "source": [
        "Merge Sort"
      ],
      "metadata": {
        "id": "o0299GzY9jPC"
      }
    },
    {
      "cell_type": "code",
      "source": [
        "def merge(arr, low, mid, high):\n",
        "  temp = []\n",
        "  left = low\n",
        "  right = mid+1\n",
        "\n",
        "  while left <= mid and right <= high:\n",
        "    if arr[left] <= arr[right]:\n",
        "      temp.append(arr[left])\n",
        "      left += 1\n",
        "    else:\n",
        "      temp.append(arr[right])\n",
        "      right += 1\n",
        "\n",
        "  while left <= mid:\n",
        "    temp.append(arr[left])\n",
        "    left += 1\n",
        "\n",
        "  while right <= high:\n",
        "    temp.append(arr[right])\n",
        "    right += 1\n",
        "\n",
        "  for i in range(low, high+1):\n",
        "    arr[i] = temp[i-low]\n",
        "\n",
        "def merge_sort(arr, low, high):\n",
        "  if low == high:\n",
        "    return\n",
        "\n",
        "  mid = (low+high)//2\n",
        "  merge_sort(arr, low, mid)\n",
        "  merge_sort(arr, mid+1, high)\n",
        "  merge(arr, low, mid, high)\n",
        "\n",
        "arr = [3, 1, 2, 4, 1, 5, 2, 6, 6]\n",
        "merge_sort(arr, 0, len(arr)-1)\n",
        "print(arr)"
      ],
      "metadata": {
        "id": "jpWmbL5usNXM",
        "colab": {
          "base_uri": "https://localhost:8080/"
        },
        "outputId": "9ecb1fec-b135-445b-93ed-7269ea479f7c"
      },
      "execution_count": 4,
      "outputs": [
        {
          "output_type": "stream",
          "name": "stdout",
          "text": [
            "[1, 1, 2, 2, 3, 4, 5, 6, 6]\n"
          ]
        }
      ]
    },
    {
      "cell_type": "markdown",
      "source": [
        "Quick Sort"
      ],
      "metadata": {
        "id": "tFH0708-DfcW"
      }
    },
    {
      "cell_type": "code",
      "source": [
        "def partition(arr, low, high):\n",
        "  pivot = arr[low]\n",
        "  i = low\n",
        "  j = high\n",
        "\n",
        "  while i<j:\n",
        "    while i<=high and arr[i] <= pivot:\n",
        "      i += 1\n",
        "    while arr[j] > pivot and j >= low:\n",
        "      j -= 1\n",
        "    if i < j:\n",
        "      arr[i], arr[j] = arr[j], arr[i]\n",
        "  arr[low], arr[j] = arr[j], arr[low]\n",
        "  return j\n",
        "\n",
        "def quick_sort(arr, low, high):\n",
        "  if low < high:\n",
        "    pivot = partition(arr, low, high)\n",
        "    quick_sort(arr, low, pivot-1)\n",
        "    quick_sort(arr, pivot+1, high)\n",
        "\n",
        "arr = [3, 1, 2, 4, 1, 5, 2, 6, 6]\n",
        "quick_sort(arr, 0, len(arr)-1)\n",
        "print(arr)"
      ],
      "metadata": {
        "id": "x8M6P3AM-vFL",
        "colab": {
          "base_uri": "https://localhost:8080/"
        },
        "outputId": "52188cba-df15-4b25-d712-165863316a87"
      },
      "execution_count": 5,
      "outputs": [
        {
          "output_type": "stream",
          "name": "stdout",
          "text": [
            "[1, 1, 2, 2, 3, 4, 5, 6, 6]\n"
          ]
        }
      ]
    },
    {
      "cell_type": "markdown",
      "source": [
        "# **Linked List**"
      ],
      "metadata": {
        "id": "ATQo695nEe-N"
      }
    },
    {
      "cell_type": "markdown",
      "source": [
        "\n",
        "# Singly Linked List\n",
        "\n"
      ],
      "metadata": {
        "id": "2omEcCo6IiKP"
      }
    },
    {
      "cell_type": "markdown",
      "source": [
        "Storing a linked list"
      ],
      "metadata": {
        "id": "-32zexQkA8Vi"
      }
    },
    {
      "cell_type": "code",
      "source": [
        "class Node:\n",
        "  def __init__(self, d, n = None):\n",
        "    self.data = d\n",
        "    self.next = n\n",
        "\n",
        "node = Node(10)\n",
        "print(node.data)"
      ],
      "metadata": {
        "id": "-sNuTBGvEg8q",
        "outputId": "6c50ac92-64d0-4a74-bd91-1e365b51c814",
        "colab": {
          "base_uri": "https://localhost:8080/"
        }
      },
      "execution_count": 6,
      "outputs": [
        {
          "output_type": "stream",
          "name": "stdout",
          "text": [
            "10\n"
          ]
        }
      ]
    },
    {
      "cell_type": "markdown",
      "source": [
        "Convert array to linked list"
      ],
      "metadata": {
        "id": "w0UMB0RuEehQ"
      }
    },
    {
      "cell_type": "code",
      "source": [
        "class Node:\n",
        "    def __init__(self, d, n = None):\n",
        "        self.data = d\n",
        "        self.next = n\n",
        "\n",
        "def convert_array_to_ll(arr):\n",
        "    head = Node(arr[0])\n",
        "    mover = head\n",
        "\n",
        "    for i in range(1, len(arr)):\n",
        "        temp = Node(arr[i])\n",
        "        mover.next = temp\n",
        "        mover = temp\n",
        "\n",
        "    return head\n",
        "\n",
        "arr = [1, 3, 2, 5, 8, 16]\n",
        "ll = convert_array_to_ll(arr)\n",
        "print(ll.data)"
      ],
      "metadata": {
        "id": "-QZfgU4LEkSs",
        "colab": {
          "base_uri": "https://localhost:8080/"
        },
        "outputId": "ec936c5c-0d59-4b96-8ec7-c59325b4689d"
      },
      "execution_count": 7,
      "outputs": [
        {
          "output_type": "stream",
          "name": "stdout",
          "text": [
            "1\n"
          ]
        }
      ]
    },
    {
      "cell_type": "markdown",
      "source": [
        "Traversing linked list"
      ],
      "metadata": {
        "id": "l-bCxokAGi1t"
      }
    },
    {
      "cell_type": "code",
      "source": [
        "class Node:\n",
        "    def __init__(self, d, n = None):\n",
        "        self.data = d\n",
        "        self.next = n\n",
        "\n",
        "def convert_array_to_ll(arr):\n",
        "    head = Node(arr[0])\n",
        "    mover = head\n",
        "\n",
        "    for i in range(1, len(arr)):\n",
        "        temp = Node(arr[i])\n",
        "        mover.next = temp\n",
        "        mover = temp\n",
        "\n",
        "    return head\n",
        "\n",
        "def traverse(head):\n",
        "    temp = head\n",
        "\n",
        "    while temp != None:\n",
        "        print(temp.data, end=' ')\n",
        "        temp = temp.next\n",
        "\n",
        "\n",
        "arr = [1, 3, 2, 5, 8, 16]\n",
        "ll = convert_array_to_ll(arr)\n",
        "traverse(ll)"
      ],
      "metadata": {
        "colab": {
          "base_uri": "https://localhost:8080/"
        },
        "id": "TFxq5WcSEcYC",
        "outputId": "b1affb88-1750-4b0d-b118-53ad2529d189"
      },
      "execution_count": 8,
      "outputs": [
        {
          "output_type": "stream",
          "name": "stdout",
          "text": [
            "1 3 2 5 8 16 "
          ]
        }
      ]
    },
    {
      "cell_type": "markdown",
      "source": [
        "Length of linked list"
      ],
      "metadata": {
        "id": "IpibRVfaKNc2"
      }
    },
    {
      "cell_type": "code",
      "source": [
        "class Node:\n",
        "    def __init__(self, d, n = None):\n",
        "        self.data = d\n",
        "        self.next = n\n",
        "\n",
        "def convert_array_to_ll(arr):\n",
        "    head = Node(arr[0])\n",
        "    mover = head\n",
        "\n",
        "    for i in range(1, len(arr)):\n",
        "        temp = Node(arr[i])\n",
        "        mover.next = temp\n",
        "        mover = temp\n",
        "\n",
        "    return head\n",
        "\n",
        "def ll_length(head):\n",
        "    count = 0\n",
        "    temp = head\n",
        "\n",
        "    while temp:\n",
        "        count += 1\n",
        "        temp = temp.next\n",
        "\n",
        "    return count\n",
        "\n",
        "arr = [1, 2, 3, 4, 5, 6, 7]\n",
        "ll = convert_array_to_ll(arr)\n",
        "print(ll_length(ll))"
      ],
      "metadata": {
        "colab": {
          "base_uri": "https://localhost:8080/"
        },
        "id": "CCpYAw6GGTxV",
        "outputId": "6b002eed-42fa-4436-ddea-d246fb13eb0b"
      },
      "execution_count": 9,
      "outputs": [
        {
          "output_type": "stream",
          "name": "stdout",
          "text": [
            "7\n"
          ]
        }
      ]
    },
    {
      "cell_type": "markdown",
      "source": [
        "Delete head"
      ],
      "metadata": {
        "id": "jeJCUxPEo5nr"
      }
    },
    {
      "cell_type": "code",
      "source": [
        "class Node:\n",
        "    def __init__(self, d, n = None):\n",
        "        self.data = d\n",
        "        self.next = n\n",
        "\n",
        "def traverse(head):\n",
        "    temp = head\n",
        "\n",
        "    while temp:\n",
        "        print(temp.data, end=' ')\n",
        "        temp = temp.next\n",
        "\n",
        "def convert_array_to_ll(arr):\n",
        "    head = Node(arr[0])\n",
        "    mover = head\n",
        "\n",
        "    for i in range(1, len(arr)):\n",
        "        node = Node(arr[i])\n",
        "        mover.next = node\n",
        "        mover = node\n",
        "\n",
        "    return head\n",
        "\n",
        "def delete_head(head):\n",
        "    temp = head\n",
        "    head = head.next\n",
        "    del temp\n",
        "\n",
        "    return head\n",
        "\n",
        "arr = [1, 2, 3, 4, 5, 6]\n",
        "head = convert_array_to_ll(arr)\n",
        "print(\"Before head delete:\")\n",
        "traverse(head)\n",
        "\n",
        "print(\"\\n\")\n",
        "\n",
        "print(\"After head deleter\")\n",
        "head = delete_head(head)\n",
        "traverse(head)"
      ],
      "metadata": {
        "colab": {
          "base_uri": "https://localhost:8080/"
        },
        "id": "oj8ribQpozt6",
        "outputId": "57ba9535-1a21-4bee-a1b5-88e88dbc5549"
      },
      "execution_count": 10,
      "outputs": [
        {
          "output_type": "stream",
          "name": "stdout",
          "text": [
            "Before head delete:\n",
            "1 2 3 4 5 6 \n",
            "\n",
            "After head deleter\n",
            "2 3 4 5 6 "
          ]
        }
      ]
    },
    {
      "cell_type": "markdown",
      "source": [
        "Delete tail"
      ],
      "metadata": {
        "id": "kx-hWgZzsEoM"
      }
    },
    {
      "cell_type": "code",
      "source": [
        "class Node:\n",
        "    def __init__(self, d, n = None):\n",
        "        self.data = d\n",
        "        self.next = n\n",
        "\n",
        "def traverse(head):\n",
        "    temp = head\n",
        "\n",
        "    while temp:\n",
        "        print(temp.data, end=' ')\n",
        "        temp = temp.next\n",
        "\n",
        "def convert_array_to_ll(arr):\n",
        "    if arr == []:\n",
        "        return None\n",
        "\n",
        "    head = Node(arr[0])\n",
        "    mover = head\n",
        "\n",
        "    for i in range(1, len(arr)):\n",
        "        node = Node(arr[i])\n",
        "        mover.next = node\n",
        "        mover = node\n",
        "\n",
        "    return head\n",
        "\n",
        "def delete_tail(head):\n",
        "    if head == None or head.next == None:\n",
        "        return None\n",
        "\n",
        "    temp = head\n",
        "\n",
        "    while temp.next.next:\n",
        "        temp = temp.next\n",
        "\n",
        "    del temp.next\n",
        "    temp.next = None\n",
        "\n",
        "    return head\n",
        "\n",
        "arr = [1, 2, 3, 4, 5, 6]\n",
        "head = convert_array_to_ll(arr)\n",
        "\n",
        "print(\"Before deletion:\")\n",
        "traverse(head)\n",
        "\n",
        "head = delete_tail(head)\n",
        "print(\"\\n\")\n",
        "\n",
        "print(\"After deletion:\")\n",
        "traverse(head)"
      ],
      "metadata": {
        "colab": {
          "base_uri": "https://localhost:8080/"
        },
        "id": "MIH0YUzgo0qn",
        "outputId": "4aa800d2-4635-44f9-b6bb-350f8226683b"
      },
      "execution_count": 11,
      "outputs": [
        {
          "output_type": "stream",
          "name": "stdout",
          "text": [
            "Before deletion:\n",
            "1 2 3 4 5 6 \n",
            "\n",
            "After deletion:\n",
            "1 2 3 4 5 "
          ]
        }
      ]
    },
    {
      "cell_type": "markdown",
      "source": [
        "Delete from k position"
      ],
      "metadata": {
        "id": "gjCCQsuzvu7x"
      }
    },
    {
      "cell_type": "code",
      "source": [
        "class Node:\n",
        "    def __init__(self, d, n = None):\n",
        "        self.data = d\n",
        "        self.next = n\n",
        "\n",
        "def traverse(head):\n",
        "    temp = head\n",
        "\n",
        "    while temp:\n",
        "        print(temp.data, end=' ')\n",
        "        temp = temp.next\n",
        "\n",
        "def convert_array_to_ll(arr):\n",
        "    if arr == []:\n",
        "        return None\n",
        "\n",
        "    head = Node(arr[0])\n",
        "    mover = head\n",
        "\n",
        "    for i in range(1, len(arr)):\n",
        "        node = Node(arr[i])\n",
        "        mover.next = node\n",
        "        mover = node\n",
        "\n",
        "    return head\n",
        "\n",
        "def delete_from_k(head, k):\n",
        "    if head == None:\n",
        "        return head\n",
        "\n",
        "    if k == 1:\n",
        "        temp = head\n",
        "        head = head.next\n",
        "        del temp\n",
        "\n",
        "        return head\n",
        "\n",
        "    cnt = 0\n",
        "    temp = head\n",
        "    prev = None\n",
        "\n",
        "    while temp:\n",
        "        cnt += 1\n",
        "\n",
        "        if cnt == k:\n",
        "            prev.next = prev.next.next\n",
        "            break\n",
        "\n",
        "        prev = temp\n",
        "        temp = temp.next\n",
        "\n",
        "    return head\n",
        "\n",
        "arr = [1, 2, 3, 4, 5, 6]\n",
        "head = convert_array_to_ll(arr)\n",
        "\n",
        "print(\"Before deletion:\")\n",
        "traverse(head)\n",
        "\n",
        "head = delete_from_k(head, 3)\n",
        "print(\"\\n\")\n",
        "\n",
        "print(\"After deletion:\")\n",
        "traverse(head)"
      ],
      "metadata": {
        "colab": {
          "base_uri": "https://localhost:8080/"
        },
        "id": "dBxQhQtNvr8G",
        "outputId": "eb1934c4-f19e-4e38-d32b-fbbbc8d10b31"
      },
      "execution_count": 12,
      "outputs": [
        {
          "output_type": "stream",
          "name": "stdout",
          "text": [
            "Before deletion:\n",
            "1 2 3 4 5 6 \n",
            "\n",
            "After deletion:\n",
            "1 2 4 5 6 "
          ]
        }
      ]
    },
    {
      "cell_type": "markdown",
      "source": [
        "Deletion by value"
      ],
      "metadata": {
        "id": "Zf-ML9WdxuOI"
      }
    },
    {
      "cell_type": "code",
      "source": [
        "class Node:\n",
        "    def __init__(self, d, n = None):\n",
        "        self.data = d\n",
        "        self.next = n\n",
        "\n",
        "def traverse(head):\n",
        "    temp = head\n",
        "\n",
        "    while temp:\n",
        "        print(temp.data, end=' ')\n",
        "        temp = temp.next\n",
        "\n",
        "def convert_array_to_ll(arr):\n",
        "    if arr == []:\n",
        "        return None\n",
        "\n",
        "    head = Node(arr[0])\n",
        "    mover = head\n",
        "\n",
        "    for i in range(1, len(arr)):\n",
        "        node = Node(arr[i])\n",
        "        mover.next = node\n",
        "        mover = node\n",
        "\n",
        "    return head\n",
        "\n",
        "def delete_value(head, val):\n",
        "    if head == None:\n",
        "        return None\n",
        "\n",
        "    if head.data == val:\n",
        "        temp = head\n",
        "        head = head.next\n",
        "        del temp\n",
        "\n",
        "        return head\n",
        "\n",
        "    prev = None\n",
        "    temp = head\n",
        "\n",
        "    while temp:\n",
        "        if temp.data == val:\n",
        "            prev.next = prev.next.next\n",
        "            break\n",
        "\n",
        "        prev = temp\n",
        "        temp = temp.next\n",
        "\n",
        "    return head\n",
        "\n",
        "\n",
        "arr = [1, 2, 3, 4, 5, 6]\n",
        "head = convert_array_to_ll(arr)\n",
        "\n",
        "print(\"Before deletion:\")\n",
        "traverse(head)\n",
        "\n",
        "head = delete_value(head, 4)\n",
        "print(\"\\n\")\n",
        "\n",
        "print(\"After deletion:\")\n",
        "traverse(head)"
      ],
      "metadata": {
        "colab": {
          "base_uri": "https://localhost:8080/"
        },
        "id": "RuDwAlX8vtXw",
        "outputId": "88262a6d-1ea2-4c02-f1bb-7509654f16ca"
      },
      "execution_count": 13,
      "outputs": [
        {
          "output_type": "stream",
          "name": "stdout",
          "text": [
            "Before deletion:\n",
            "1 2 3 4 5 6 \n",
            "\n",
            "After deletion:\n",
            "1 2 3 5 6 "
          ]
        }
      ]
    },
    {
      "cell_type": "markdown",
      "source": [
        "Insert at head"
      ],
      "metadata": {
        "id": "gyH-a2pUozFX"
      }
    },
    {
      "cell_type": "code",
      "source": [
        "class Node:\n",
        "    def __init__(self, d, n = None):\n",
        "        self.data = d\n",
        "        self.next = n\n",
        "\n",
        "def traverse(head):\n",
        "    temp = head\n",
        "\n",
        "    while temp:\n",
        "        print(temp.data, end=' ')\n",
        "        temp = temp.next\n",
        "\n",
        "def convert_array_to_ll(arr):\n",
        "    if arr == []:\n",
        "        return None\n",
        "\n",
        "    head = Node(arr[0])\n",
        "    mover = head\n",
        "\n",
        "    for i in range(1, len(arr)):\n",
        "        node = Node(arr[i])\n",
        "        mover.next = node\n",
        "        mover = node\n",
        "\n",
        "    return head\n",
        "\n",
        "def insert_at_head(head, data):\n",
        "    temp = Node(data)\n",
        "    temp.next = head\n",
        "\n",
        "    return temp\n",
        "\n",
        "\n",
        "arr = [1, 2, 3, 4, 5, 6]\n",
        "head = convert_array_to_ll(arr)\n",
        "\n",
        "print(\"Before insertion:\")\n",
        "traverse(head)\n",
        "\n",
        "head = insert_at_head(head, 10)\n",
        "print(\"\\n\")\n",
        "\n",
        "print(\"After insertion:\")\n",
        "traverse(head)"
      ],
      "metadata": {
        "colab": {
          "base_uri": "https://localhost:8080/"
        },
        "id": "paCqRrOCxsjC",
        "outputId": "7bbf8817-2043-41a2-b684-bf861956d248"
      },
      "execution_count": 14,
      "outputs": [
        {
          "output_type": "stream",
          "name": "stdout",
          "text": [
            "Before insertion:\n",
            "1 2 3 4 5 6 \n",
            "\n",
            "After insertion:\n",
            "10 1 2 3 4 5 6 "
          ]
        }
      ]
    },
    {
      "cell_type": "markdown",
      "source": [
        "Insert at tail"
      ],
      "metadata": {
        "id": "jq5qHHAZpaKo"
      }
    },
    {
      "cell_type": "code",
      "source": [
        "class Node:\n",
        "    def __init__(self, d, n = None):\n",
        "        self.data = d\n",
        "        self.next = n\n",
        "\n",
        "def traverse(head):\n",
        "    temp = head\n",
        "\n",
        "    while temp:\n",
        "        print(temp.data, end=' ')\n",
        "        temp = temp.next\n",
        "\n",
        "def convert_array_to_ll(arr):\n",
        "    if arr == []:\n",
        "        return None\n",
        "\n",
        "    head = Node(arr[0])\n",
        "    mover = head\n",
        "\n",
        "    for i in range(1, len(arr)):\n",
        "        node = Node(arr[i])\n",
        "        mover.next = node\n",
        "        mover = node\n",
        "\n",
        "    return head\n",
        "\n",
        "def insert_at_tail(head, data):\n",
        "    new_node = Node(data)\n",
        "    temp = head\n",
        "\n",
        "    while temp.next:\n",
        "        temp = temp.next\n",
        "\n",
        "    temp.next = new_node\n",
        "\n",
        "    return head\n",
        "\n",
        "\n",
        "arr = [1, 2, 3, 4, 5, 6]\n",
        "head = convert_array_to_ll(arr)\n",
        "\n",
        "print(\"Before insertion:\")\n",
        "traverse(head)\n",
        "\n",
        "head = insert_at_tail(head, 10)\n",
        "print(\"\\n\")\n",
        "\n",
        "print(\"After insertion:\")\n",
        "traverse(head)"
      ],
      "metadata": {
        "colab": {
          "base_uri": "https://localhost:8080/"
        },
        "id": "h3g7MTXIoryF",
        "outputId": "137de141-7f80-42f6-fea1-c37ca8462c86"
      },
      "execution_count": 15,
      "outputs": [
        {
          "output_type": "stream",
          "name": "stdout",
          "text": [
            "Before insertion:\n",
            "1 2 3 4 5 6 \n",
            "\n",
            "After insertion:\n",
            "1 2 3 4 5 6 10 "
          ]
        }
      ]
    },
    {
      "cell_type": "markdown",
      "source": [
        "Insert at k'th position"
      ],
      "metadata": {
        "id": "3WkhXaK0ytfH"
      }
    },
    {
      "cell_type": "code",
      "source": [
        "class Node:\n",
        "    def __init__(self, d, n = None):\n",
        "        self.data = d\n",
        "        self.next = n\n",
        "\n",
        "def traverse(head):\n",
        "    temp = head\n",
        "\n",
        "    while temp:\n",
        "        print(temp.data, end=' ')\n",
        "        temp = temp.next\n",
        "\n",
        "def convert_array_to_ll(arr):\n",
        "    if arr == []:\n",
        "        return None\n",
        "\n",
        "    head = Node(arr[0])\n",
        "    mover = head\n",
        "\n",
        "    for i in range(1, len(arr)):\n",
        "        node = Node(arr[i])\n",
        "        mover.next = node\n",
        "        mover = node\n",
        "\n",
        "    return head\n",
        "\n",
        "def insert_at_k(head, data, k):\n",
        "    node = Node(data)\n",
        "\n",
        "    if head == None:\n",
        "        return node\n",
        "\n",
        "    if k == 1:\n",
        "        node.next = head\n",
        "        return node\n",
        "\n",
        "    cnt = 0\n",
        "    temp = head\n",
        "\n",
        "    while temp:\n",
        "        cnt += 1\n",
        "\n",
        "        if cnt == k - 1:\n",
        "            node.next = temp.next\n",
        "            temp.next = node\n",
        "            break\n",
        "\n",
        "        temp = temp.next\n",
        "\n",
        "    return head\n",
        "\n",
        "\n",
        "arr = [1, 2, 3, 4, 5, 6]\n",
        "head = convert_array_to_ll(arr)\n",
        "\n",
        "print(\"Before insertion:\")\n",
        "traverse(head)\n",
        "\n",
        "head = insert_at_k(head, 10, 3)\n",
        "print(\"\\n\")\n",
        "\n",
        "print(\"After insertion:\")\n",
        "traverse(head)"
      ],
      "metadata": {
        "colab": {
          "base_uri": "https://localhost:8080/"
        },
        "id": "CB7zESY2pZGe",
        "outputId": "3765336b-e565-4b96-8be2-bdb54359c520"
      },
      "execution_count": 16,
      "outputs": [
        {
          "output_type": "stream",
          "name": "stdout",
          "text": [
            "Before insertion:\n",
            "1 2 3 4 5 6 \n",
            "\n",
            "After insertion:\n",
            "1 2 10 3 4 5 6 "
          ]
        }
      ]
    },
    {
      "cell_type": "markdown",
      "source": [
        "Insert before a value"
      ],
      "metadata": {
        "id": "eb3in2Qn04mO"
      }
    },
    {
      "cell_type": "code",
      "source": [
        "class Node:\n",
        "    def __init__(self, d, n = None):\n",
        "        self.data = d\n",
        "        self.next = n\n",
        "\n",
        "def traverse(head):\n",
        "    temp = head\n",
        "\n",
        "    while temp:\n",
        "        print(temp.data, end=' ')\n",
        "        temp = temp.next\n",
        "\n",
        "def convert_array_to_ll(arr):\n",
        "    if arr == []:\n",
        "        return None\n",
        "\n",
        "    head = Node(arr[0])\n",
        "    mover = head\n",
        "\n",
        "    for i in range(1, len(arr)):\n",
        "        node = Node(arr[i])\n",
        "        mover.next = node\n",
        "        mover = node\n",
        "\n",
        "    return head\n",
        "\n",
        "def insert_before_value(head, data, val):\n",
        "    node = Node(data)\n",
        "\n",
        "    if head == None:\n",
        "        return head\n",
        "\n",
        "    if head.data == val:\n",
        "        node.next = head\n",
        "        return node\n",
        "\n",
        "    temp = head\n",
        "\n",
        "    while temp.next:\n",
        "        if temp.next.data == val:\n",
        "            node.next = temp.next\n",
        "            temp.next = node\n",
        "            return head\n",
        "\n",
        "        temp = temp.next\n",
        "\n",
        "    return head\n",
        "\n",
        "\n",
        "arr = [1, 2, 3, 4, 5, 6]\n",
        "head = convert_array_to_ll(arr)\n",
        "\n",
        "print(\"Before insertion:\")\n",
        "traverse(head)\n",
        "\n",
        "head = insert_before_value(head, 10, 4)\n",
        "print(\"\\n\")\n",
        "\n",
        "print(\"After insertion:\")\n",
        "traverse(head)"
      ],
      "metadata": {
        "colab": {
          "base_uri": "https://localhost:8080/"
        },
        "id": "VXcDW7tbynZm",
        "outputId": "509ae516-3ccf-4bd8-b440-d394fa54fe9e"
      },
      "execution_count": 17,
      "outputs": [
        {
          "output_type": "stream",
          "name": "stdout",
          "text": [
            "Before insertion:\n",
            "1 2 3 4 5 6 \n",
            "\n",
            "After insertion:\n",
            "1 2 3 10 4 5 6 "
          ]
        }
      ]
    },
    {
      "cell_type": "markdown",
      "source": [
        "Search in LL"
      ],
      "metadata": {
        "id": "AjeoNwE83llE"
      }
    },
    {
      "cell_type": "code",
      "source": [
        "class Node:\n",
        "    def __init__(self, d, n = None):\n",
        "        self.data = d\n",
        "        self.next = n\n",
        "\n",
        "def traverse(head):\n",
        "    temp = head\n",
        "\n",
        "    while temp:\n",
        "        print(temp.data, end=' ')\n",
        "        temp = temp.next\n",
        "\n",
        "def convert_array_to_ll(arr):\n",
        "    if arr == []:\n",
        "        return None\n",
        "\n",
        "    head = Node(arr[0])\n",
        "    mover = head\n",
        "\n",
        "    for i in range(1, len(arr)):\n",
        "        node = Node(arr[i])\n",
        "        mover.next = node\n",
        "        mover = node\n",
        "\n",
        "    return head\n",
        "\n",
        "def search_in_ll(head, val):\n",
        "    temp = head\n",
        "\n",
        "    pos = 0\n",
        "\n",
        "    while temp:\n",
        "        pos += 1\n",
        "        if temp.data == val:\n",
        "            print(f\"Element present at position: {pos}\")\n",
        "            return\n",
        "\n",
        "        temp = temp.next\n",
        "\n",
        "    print(\"Element not present!\")\n",
        "\n",
        "\n",
        "\n",
        "arr = [10, 20, 30, 40, 50, 60]\n",
        "head = convert_array_to_ll(arr)\n",
        "search_in_ll(head, 40)"
      ],
      "metadata": {
        "colab": {
          "base_uri": "https://localhost:8080/"
        },
        "id": "DTySqaAT02o9",
        "outputId": "04b9d72c-b3f3-40a6-eda6-8cd2ebdf365f"
      },
      "execution_count": 18,
      "outputs": [
        {
          "output_type": "stream",
          "name": "stdout",
          "text": [
            "Element present at position: 4\n"
          ]
        }
      ]
    },
    {
      "cell_type": "markdown",
      "source": [
        "\n",
        "\n",
        "---\n",
        "\n"
      ],
      "metadata": {
        "id": "7a7BhaKoIzpv"
      }
    },
    {
      "cell_type": "markdown",
      "source": [
        "# Doubly Linked List"
      ],
      "metadata": {
        "id": "ZAN34raqIwi1"
      }
    },
    {
      "cell_type": "markdown",
      "source": [
        "Storing doubly linked list"
      ],
      "metadata": {
        "id": "z2mdrCfUK1Jr"
      }
    },
    {
      "cell_type": "code",
      "source": [
        "class Node:\n",
        "    def __init__(self, d, l = None, r = None):\n",
        "        self.data = d\n",
        "        self.left = l\n",
        "        self.right = r\n",
        "\n",
        "node = Node(10)\n",
        "print(node.data)"
      ],
      "metadata": {
        "id": "nLWFEAk23kr2",
        "colab": {
          "base_uri": "https://localhost:8080/"
        },
        "outputId": "1c195dbe-9713-4e28-b740-6b3f6276825c"
      },
      "execution_count": 19,
      "outputs": [
        {
          "output_type": "stream",
          "name": "stdout",
          "text": [
            "10\n"
          ]
        }
      ]
    },
    {
      "cell_type": "markdown",
      "source": [
        "Converting array to DLL"
      ],
      "metadata": {
        "id": "PEgKul2GMy8M"
      }
    },
    {
      "cell_type": "code",
      "source": [
        "class Node:\n",
        "    def __init__(self, d, l=None, r=None):\n",
        "        self.data = d\n",
        "        self.left = l\n",
        "        self.right = r\n",
        "\n",
        "def convert_array_to_dll(arr):\n",
        "    if not arr:\n",
        "        return None\n",
        "\n",
        "    head = Node(arr[0])\n",
        "    mover = head\n",
        "\n",
        "    for i in range(1, len(arr)):\n",
        "        node = Node(arr[i], mover)\n",
        "        mover.right = node\n",
        "        mover = node\n",
        "\n",
        "    return head\n",
        "\n",
        "arr = [1, 2, 3, 4, 5]\n",
        "head = convert_array_to_dll(arr)\n",
        "print(head.right.data)"
      ],
      "metadata": {
        "colab": {
          "base_uri": "https://localhost:8080/"
        },
        "id": "i_unT1xjK0Ux",
        "outputId": "8d6f15f3-e9f0-42c3-b7d1-300b8da7a133"
      },
      "execution_count": 20,
      "outputs": [
        {
          "output_type": "stream",
          "name": "stdout",
          "text": [
            "2\n"
          ]
        }
      ]
    },
    {
      "cell_type": "markdown",
      "source": [
        "Traversing a DLL"
      ],
      "metadata": {
        "id": "JIZ5QXhvNbWq"
      }
    },
    {
      "cell_type": "code",
      "source": [
        "class Node:\n",
        "    def __init__(self, d, l=None, r=None):\n",
        "        self.data = d\n",
        "        self.left = l\n",
        "        self.right = r\n",
        "\n",
        "def convert_array_to_dll(arr):\n",
        "    if not arr:\n",
        "        return None\n",
        "\n",
        "    head = Node(arr[0])\n",
        "    mover = head\n",
        "\n",
        "    for i in range(1, len(arr)):\n",
        "        node = Node(arr[i], mover)\n",
        "        mover.right = node\n",
        "        mover = node\n",
        "\n",
        "    return head\n",
        "\n",
        "def traverse(head):\n",
        "    if head == None:\n",
        "        return \"No elements!\"\n",
        "\n",
        "    temp = head\n",
        "\n",
        "    while temp:\n",
        "        print(temp.data, end = \" \")\n",
        "        temp = temp.right\n",
        "\n",
        "arr = [1, 2, 3, 4, 5]\n",
        "head = convert_array_to_dll(arr)\n",
        "traverse(head)"
      ],
      "metadata": {
        "colab": {
          "base_uri": "https://localhost:8080/"
        },
        "id": "3_ZFRXtkMykr",
        "outputId": "30490464-63f1-4360-bb7a-83150c914be8"
      },
      "execution_count": 21,
      "outputs": [
        {
          "output_type": "stream",
          "name": "stdout",
          "text": [
            "1 2 3 4 5 "
          ]
        }
      ]
    },
    {
      "cell_type": "markdown",
      "source": [
        "Delete first element"
      ],
      "metadata": {
        "id": "m2ZfDC-766WY"
      }
    },
    {
      "cell_type": "code",
      "source": [
        "class Node:\n",
        "    def __init__(self, d, l=None, r=None):\n",
        "        self.data = d\n",
        "        self.left = l\n",
        "        self.right = r\n",
        "\n",
        "def convert_array_to_dll(arr):\n",
        "    if arr == []:\n",
        "        return None\n",
        "\n",
        "    head = Node(arr[0])\n",
        "    mover = head\n",
        "\n",
        "    for i in range(1, len(arr)):\n",
        "        node = Node(arr[i], mover)\n",
        "        mover.right = node\n",
        "        mover = node\n",
        "\n",
        "    return head\n",
        "\n",
        "def delete_head_element(head):\n",
        "    if head == None:\n",
        "        return None\n",
        "\n",
        "    temp = head\n",
        "    head = head.right\n",
        "    del temp\n",
        "\n",
        "    return head\n",
        "\n",
        "def traverse(head):\n",
        "    temp = head\n",
        "\n",
        "    while temp:\n",
        "        print(temp.data, end=' ')\n",
        "        temp = temp.right\n",
        "\n",
        "\n",
        "arr = [1, 2, 3, 4, 5]\n",
        "head = convert_array_to_dll(arr)\n",
        "\n",
        "print(\"Before: \")\n",
        "traverse(head)\n",
        "\n",
        "print(\"\\n\")\n",
        "head = delete_head_element(head)\n",
        "\n",
        "print(\"After: \")\n",
        "traverse(head)"
      ],
      "metadata": {
        "colab": {
          "base_uri": "https://localhost:8080/"
        },
        "id": "WE6iCfK1NaiC",
        "outputId": "bff1819b-0604-463d-b6cb-4fc9a8dda7ef"
      },
      "execution_count": 22,
      "outputs": [
        {
          "output_type": "stream",
          "name": "stdout",
          "text": [
            "Before: \n",
            "1 2 3 4 5 \n",
            "\n",
            "After: \n",
            "2 3 4 5 "
          ]
        }
      ]
    },
    {
      "cell_type": "markdown",
      "source": [
        "Delete last element"
      ],
      "metadata": {
        "id": "vuUAynHE8Zyv"
      }
    },
    {
      "cell_type": "code",
      "source": [
        "class Node:\n",
        "    def __init__(self, d, l=None, r=None):\n",
        "        self.data = d\n",
        "        self.left = l\n",
        "        self.right = r\n",
        "\n",
        "def convert_array_to_dll(arr):\n",
        "    if arr == []:\n",
        "        return None\n",
        "\n",
        "    head = Node(arr[0])\n",
        "    mover = head\n",
        "\n",
        "    for i in range(1, len(arr)):\n",
        "        node = Node(arr[i], mover)\n",
        "        mover.right = node\n",
        "        mover = node\n",
        "\n",
        "    return head\n",
        "\n",
        "def delete_last_element(head):\n",
        "    if head == None:\n",
        "        return head\n",
        "\n",
        "    temp = head\n",
        "\n",
        "    while temp and temp.right:\n",
        "        temp = temp.right\n",
        "\n",
        "    temp.left.right = temp.right\n",
        "    del temp\n",
        "\n",
        "    return head\n",
        "\n",
        "def traverse(head):\n",
        "    temp = head\n",
        "\n",
        "    while temp:\n",
        "        print(temp.data, end=' ')\n",
        "        temp = temp.right\n",
        "\n",
        "\n",
        "arr = [1, 2, 3, 4, 5]\n",
        "head = convert_array_to_dll(arr)\n",
        "\n",
        "print(\"Before: \")\n",
        "traverse(head)\n",
        "\n",
        "print(\"\\n\")\n",
        "head = delete_last_element(head)\n",
        "\n",
        "print(\"After: \")\n",
        "traverse(head)"
      ],
      "metadata": {
        "colab": {
          "base_uri": "https://localhost:8080/"
        },
        "id": "N9tiJNCd62ed",
        "outputId": "353bb44e-21a1-4374-ddad-8ab3f2893a99"
      },
      "execution_count": 24,
      "outputs": [
        {
          "output_type": "stream",
          "name": "stdout",
          "text": [
            "Before: \n",
            "1 2 3 4 5 \n",
            "\n",
            "After: \n",
            "1 2 3 4 "
          ]
        }
      ]
    },
    {
      "cell_type": "markdown",
      "source": [
        "Delete kth node"
      ],
      "metadata": {
        "id": "XS2WMTwE-DOq"
      }
    },
    {
      "cell_type": "code",
      "source": [
        "class Node:\n",
        "    def __init__(self, d, l=None, r=None):\n",
        "        self.data = d\n",
        "        self.left = l\n",
        "        self.right = r\n",
        "\n",
        "def convert_array_to_dll(arr):\n",
        "    if arr == []:\n",
        "        return None\n",
        "\n",
        "    head = Node(arr[0])\n",
        "    mover = head\n",
        "\n",
        "    for i in range(1, len(arr)):\n",
        "        node = Node(arr[i], mover)\n",
        "        mover.right = node\n",
        "        mover = node\n",
        "\n",
        "    return head\n",
        "\n",
        "def delete_kth_node(head, k):\n",
        "    if head == None:\n",
        "        return head\n",
        "\n",
        "    if k == 1:\n",
        "        temp = head\n",
        "        head = head.right\n",
        "        del temp\n",
        "\n",
        "        return head\n",
        "\n",
        "    temp = head\n",
        "    cnt = 0\n",
        "\n",
        "    while temp:\n",
        "        cnt += 1\n",
        "\n",
        "        if cnt == k:\n",
        "            temp.left.right = temp.right\n",
        "            del temp\n",
        "            break\n",
        "\n",
        "        temp = temp.right\n",
        "\n",
        "    return head\n",
        "\n",
        "def traverse(head):\n",
        "    temp = head\n",
        "\n",
        "    while temp:\n",
        "        print(temp.data, end=' ')\n",
        "        temp = temp.right\n",
        "\n",
        "\n",
        "arr = [1, 2, 3, 4, 5]\n",
        "head = convert_array_to_dll(arr)\n",
        "\n",
        "print(\"Before: \")\n",
        "traverse(head)\n",
        "\n",
        "print(\"\\n\")\n",
        "head = delete_kth_node(head, 3)\n",
        "\n",
        "print(\"After: \")\n",
        "traverse(head)"
      ],
      "metadata": {
        "colab": {
          "base_uri": "https://localhost:8080/"
        },
        "id": "NpqaoW9A8X8v",
        "outputId": "b92f102e-3fb8-4d81-8d64-6dd7690cbdae"
      },
      "execution_count": 25,
      "outputs": [
        {
          "output_type": "stream",
          "name": "stdout",
          "text": [
            "Before: \n",
            "1 2 3 4 5 \n",
            "\n",
            "After: \n",
            "1 2 4 5 "
          ]
        }
      ]
    },
    {
      "cell_type": "markdown",
      "source": [
        "Delete by value"
      ],
      "metadata": {
        "id": "-O8dEj7iC0hx"
      }
    },
    {
      "cell_type": "code",
      "source": [
        "class Node:\n",
        "    def __init__(self, d, l=None, r=None):\n",
        "        self.data = d\n",
        "        self.left = l\n",
        "        self.right = r\n",
        "\n",
        "def convert_array_to_dll(arr):\n",
        "    if arr == []:\n",
        "        return None\n",
        "\n",
        "    head = Node(arr[0])\n",
        "    mover = head\n",
        "\n",
        "    for i in range(1, len(arr)):\n",
        "        node = Node(arr[i], mover)\n",
        "        mover.right = node\n",
        "        mover = node\n",
        "\n",
        "    return head\n",
        "\n",
        "def delete_by_value(head, val):\n",
        "    if head == None:\n",
        "        return head\n",
        "\n",
        "    temp = head\n",
        "\n",
        "    if head.data == val:\n",
        "        head = head.right\n",
        "        del temp\n",
        "\n",
        "        return head\n",
        "\n",
        "    while temp:\n",
        "        if temp.data == val:\n",
        "            temp.left.right = temp.right\n",
        "            del temp\n",
        "            break\n",
        "\n",
        "        temp = temp.right\n",
        "\n",
        "    return head\n",
        "\n",
        "def traverse(head):\n",
        "    temp = head\n",
        "\n",
        "    while temp:\n",
        "        print(temp.data, end=' ')\n",
        "        temp = temp.right\n",
        "\n",
        "\n",
        "arr = [1, 2, 3, 4, 5]\n",
        "head = convert_array_to_dll(arr)\n",
        "\n",
        "print(\"Before: \")\n",
        "traverse(head)\n",
        "\n",
        "print(\"\\n\")\n",
        "head = delete_by_value(head, 3)\n",
        "\n",
        "print(\"After: \")\n",
        "traverse(head)"
      ],
      "metadata": {
        "colab": {
          "base_uri": "https://localhost:8080/"
        },
        "id": "NEhTb5Wk-Bpy",
        "outputId": "98203182-e223-4597-d50a-43f1a951f19f"
      },
      "execution_count": 26,
      "outputs": [
        {
          "output_type": "stream",
          "name": "stdout",
          "text": [
            "Before: \n",
            "1 2 3 4 5 \n",
            "\n",
            "After: \n",
            "1 2 4 5 "
          ]
        }
      ]
    },
    {
      "cell_type": "markdown",
      "source": [
        "Insert at head"
      ],
      "metadata": {
        "id": "CzQtDaLWEhRL"
      }
    },
    {
      "cell_type": "code",
      "source": [
        "class Node:\n",
        "    def __init__(self, d, l=None, r=None):\n",
        "        self.data = d\n",
        "        self.left = l\n",
        "        self.right = r\n",
        "\n",
        "def convert_array_to_dll(arr):\n",
        "    if arr == []:\n",
        "        return None\n",
        "\n",
        "    head = Node(arr[0])\n",
        "    mover = head\n",
        "\n",
        "    for i in range(1, len(arr)):\n",
        "        node = Node(arr[i], mover)\n",
        "        mover.right = node\n",
        "        mover = node\n",
        "\n",
        "    return head\n",
        "\n",
        "def insert_at_first(head, val):\n",
        "    node = Node(val, None, head)\n",
        "\n",
        "    return node\n",
        "\n",
        "def traverse(head):\n",
        "    temp = head\n",
        "\n",
        "    while temp:\n",
        "        print(temp.data, end=' ')\n",
        "        temp = temp.right\n",
        "\n",
        "\n",
        "arr = [1, 2, 3, 4, 5]\n",
        "head = convert_array_to_dll(arr)\n",
        "\n",
        "print(\"Before: \")\n",
        "traverse(head)\n",
        "\n",
        "print(\"\\n\")\n",
        "head = insert_at_first(head, 30)\n",
        "\n",
        "print(\"After: \")\n",
        "traverse(head)"
      ],
      "metadata": {
        "colab": {
          "base_uri": "https://localhost:8080/"
        },
        "id": "Irg3BqePC2TL",
        "outputId": "2fcb86fd-db1c-460a-cab3-c74304cbcb20"
      },
      "execution_count": 27,
      "outputs": [
        {
          "output_type": "stream",
          "name": "stdout",
          "text": [
            "Before: \n",
            "1 2 3 4 5 \n",
            "\n",
            "After: \n",
            "30 1 2 3 4 5 "
          ]
        }
      ]
    },
    {
      "cell_type": "markdown",
      "source": [
        "Insert at last"
      ],
      "metadata": {
        "id": "XkvtqMTxGVtR"
      }
    },
    {
      "cell_type": "code",
      "source": [
        "class Node:\n",
        "    def __init__(self, d, l=None, r=None):\n",
        "        self.data = d\n",
        "        self.left = l\n",
        "        self.right = r\n",
        "\n",
        "def convert_array_to_dll(arr):\n",
        "    if arr == []:\n",
        "        return None\n",
        "\n",
        "    head = Node(arr[0])\n",
        "    mover = head\n",
        "\n",
        "    for i in range(1, len(arr)):\n",
        "        node = Node(arr[i], mover)\n",
        "        mover.right = node\n",
        "        mover = node\n",
        "\n",
        "    return head\n",
        "\n",
        "def insert_at_last(head, val):\n",
        "    temp = head\n",
        "\n",
        "    while temp and temp.right:\n",
        "        temp = temp.right\n",
        "\n",
        "    node = Node(val, temp)\n",
        "    temp.right = node\n",
        "\n",
        "    return head\n",
        "\n",
        "def traverse(head):\n",
        "    temp = head\n",
        "\n",
        "    while temp:\n",
        "        print(temp.data, end=' ')\n",
        "        temp = temp.right\n",
        "\n",
        "\n",
        "arr = [1, 2, 3, 4, 5]\n",
        "head = convert_array_to_dll(arr)\n",
        "\n",
        "print(\"Before: \")\n",
        "traverse(head)\n",
        "\n",
        "print(\"\\n\")\n",
        "head = insert_at_last(head, 20)\n",
        "\n",
        "print(\"After: \")\n",
        "traverse(head)"
      ],
      "metadata": {
        "colab": {
          "base_uri": "https://localhost:8080/"
        },
        "id": "FiQQniIkEjKa",
        "outputId": "c4ef20ce-185c-4082-c185-8cc3251b5086"
      },
      "execution_count": 28,
      "outputs": [
        {
          "output_type": "stream",
          "name": "stdout",
          "text": [
            "Before: \n",
            "1 2 3 4 5 \n",
            "\n",
            "After: \n",
            "1 2 3 4 5 20 "
          ]
        }
      ]
    },
    {
      "cell_type": "markdown",
      "source": [
        "Insert after a value"
      ],
      "metadata": {
        "id": "XyxLUtvfM0qk"
      }
    },
    {
      "cell_type": "code",
      "source": [
        "class Node:\n",
        "    def __init__(self, d, l=None, r=None):\n",
        "        self.data = d\n",
        "        self.left = l\n",
        "        self.right = r\n",
        "\n",
        "def convert_array_to_dll(arr):\n",
        "    if arr == []:\n",
        "        return None\n",
        "\n",
        "    head = Node(arr[0])\n",
        "    mover = head\n",
        "\n",
        "    for i in range(1, len(arr)):\n",
        "        node = Node(arr[i], mover)\n",
        "        mover.right = node\n",
        "        mover = node\n",
        "\n",
        "    return head\n",
        "\n",
        "def insert_after_value(head, el, val):\n",
        "    temp = head\n",
        "\n",
        "    while temp:\n",
        "        if temp.data == el:\n",
        "            node = Node(val, temp, temp.right)\n",
        "            temp.right = node\n",
        "            break\n",
        "\n",
        "        temp = temp.right\n",
        "\n",
        "    return head\n",
        "\n",
        "def traverse(head):\n",
        "    temp = head\n",
        "\n",
        "    while temp:\n",
        "        print(temp.data, end=' ')\n",
        "        temp = temp.right\n",
        "\n",
        "\n",
        "arr = [1, 2, 3, 4, 5]\n",
        "head = convert_array_to_dll(arr)\n",
        "\n",
        "print(\"Before: \")\n",
        "traverse(head)\n",
        "\n",
        "print(\"\\n\")\n",
        "head = insert_after_value(head, 3, 10)\n",
        "\n",
        "print(\"After: \")\n",
        "traverse(head)"
      ],
      "metadata": {
        "colab": {
          "base_uri": "https://localhost:8080/"
        },
        "id": "WoOBqzAZGXdd",
        "outputId": "432c1ee5-2b22-424b-e192-492df54a65ae"
      },
      "execution_count": 29,
      "outputs": [
        {
          "output_type": "stream",
          "name": "stdout",
          "text": [
            "Before: \n",
            "1 2 3 4 5 \n",
            "\n",
            "After: \n",
            "1 2 3 10 4 5 "
          ]
        }
      ]
    },
    {
      "cell_type": "code",
      "source": [],
      "metadata": {
        "id": "QpopiuG0M3jb"
      },
      "execution_count": null,
      "outputs": []
    }
  ]
}