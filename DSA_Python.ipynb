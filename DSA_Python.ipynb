{
  "nbformat": 4,
  "nbformat_minor": 0,
  "metadata": {
    "colab": {
      "provenance": [],
      "authorship_tag": "ABX9TyMJEaX3f2g5ndLMHpMvnR9f",
      "include_colab_link": true
    },
    "kernelspec": {
      "name": "python3",
      "display_name": "Python 3"
    },
    "language_info": {
      "name": "python"
    }
  },
  "cells": [
    {
      "cell_type": "markdown",
      "metadata": {
        "id": "view-in-github",
        "colab_type": "text"
      },
      "source": [
        "<a href=\"https://colab.research.google.com/github/UTSAVsarkar/DSA_PYTHON/blob/main/DSA_Python.ipynb\" target=\"_parent\"><img src=\"https://colab.research.google.com/assets/colab-badge.svg\" alt=\"Open In Colab\"/></a>"
      ]
    },
    {
      "cell_type": "markdown",
      "source": [
        "# **SORTING**"
      ],
      "metadata": {
        "id": "wiDk0PlpoF3F"
      }
    },
    {
      "cell_type": "markdown",
      "source": [
        "Selection Sort"
      ],
      "metadata": {
        "id": "9RyQgoPPoKiD"
      }
    },
    {
      "cell_type": "code",
      "execution_count": 14,
      "metadata": {
        "colab": {
          "base_uri": "https://localhost:8080/"
        },
        "id": "1KvDMxlEoCz1",
        "outputId": "9adcdccb-22ce-4c31-f368-0894de8ff228"
      },
      "outputs": [
        {
          "output_type": "stream",
          "name": "stdout",
          "text": [
            "[9, 13, 20, 24, 52, 46]\n"
          ]
        }
      ],
      "source": [
        "def selection_sort(arr):\n",
        "  n = len(arr)\n",
        "\n",
        "  for i in range(0, n-2):\n",
        "    mini = i\n",
        "    for j in range(i+1, n):\n",
        "      if arr[j] < arr[mini]:\n",
        "        mini = j\n",
        "    arr[i], arr[mini] = arr[mini], arr[i]\n",
        "\n",
        "  return arr\n",
        "\n",
        "arr = [13, 46, 24, 52, 20, 9]\n",
        "print(selection_sort(arr))"
      ]
    },
    {
      "cell_type": "markdown",
      "source": [
        "Bubble Sort"
      ],
      "metadata": {
        "id": "cPtkIgEMtYIs"
      }
    },
    {
      "cell_type": "code",
      "source": [
        "def bubble_sort(arr):\n",
        "  n = len(arr)\n",
        "\n",
        "  for i in range(n-1):\n",
        "    for j in range(n-i-1):\n",
        "      if arr[j] > arr[j+1]:\n",
        "        arr[j], arr[j+1] = arr[j+1], arr[j]\n",
        "\n",
        "  return arr\n",
        "\n",
        "arr = [13, 46, 24, 52, 20, 9]\n",
        "print(bubble_sort(arr))"
      ],
      "metadata": {
        "colab": {
          "base_uri": "https://localhost:8080/"
        },
        "id": "3vfzQHh8ovZP",
        "outputId": "968148a7-916c-4a45-8245-a3d4668160ab"
      },
      "execution_count": 15,
      "outputs": [
        {
          "output_type": "stream",
          "name": "stdout",
          "text": [
            "[9, 13, 20, 24, 46, 52]\n"
          ]
        }
      ]
    },
    {
      "cell_type": "markdown",
      "source": [
        "Insertion Sort"
      ],
      "metadata": {
        "id": "1V6tMj9Rr9s2"
      }
    },
    {
      "cell_type": "code",
      "source": [
        "def insertion_sort(arr):\n",
        "  n = len(arr)\n",
        "\n",
        "  for i in range(n):\n",
        "    j = i\n",
        "    while j > 0 and arr[j-1] > arr[j]:\n",
        "      arr[j-1], arr[j] = arr[j], arr[j-1]\n",
        "      j -= 1\n",
        "\n",
        "  return arr\n",
        "\n",
        "arr = [13, 46, 24, 52, 20, 9]\n",
        "print(insertion_sort(arr))"
      ],
      "metadata": {
        "id": "JdcFY5CDszVA",
        "colab": {
          "base_uri": "https://localhost:8080/"
        },
        "outputId": "e99edf99-1bc0-4ebf-b1b8-b3724f379c35"
      },
      "execution_count": 16,
      "outputs": [
        {
          "output_type": "stream",
          "name": "stdout",
          "text": [
            "[9, 13, 20, 24, 46, 52]\n"
          ]
        }
      ]
    },
    {
      "cell_type": "markdown",
      "source": [
        "Merge Sort"
      ],
      "metadata": {
        "id": "o0299GzY9jPC"
      }
    },
    {
      "cell_type": "code",
      "source": [
        "def merge(arr, low, mid, high):\n",
        "  temp = []\n",
        "  left = low\n",
        "  right = mid+1\n",
        "\n",
        "  while left <= mid and right <= high:\n",
        "    if arr[left] <= arr[right]:\n",
        "      temp.append(arr[left])\n",
        "      left += 1\n",
        "    else:\n",
        "      temp.append(arr[right])\n",
        "      right += 1\n",
        "\n",
        "  while left <= mid:\n",
        "    temp.append(arr[left])\n",
        "    left += 1\n",
        "\n",
        "  while right <= high:\n",
        "    temp.append(arr[right])\n",
        "    right += 1\n",
        "\n",
        "  for i in range(low, high+1):\n",
        "    arr[i] = temp[i-low]\n",
        "\n",
        "def merge_sort(arr, low, high):\n",
        "  if low == high:\n",
        "    return\n",
        "\n",
        "  mid = (low+high)//2\n",
        "  merge_sort(arr, low, mid)\n",
        "  merge_sort(arr, mid+1, high)\n",
        "  merge(arr, low, mid, high)\n",
        "\n",
        "arr = [3, 1, 2, 4, 1, 5, 2, 6, 6]\n",
        "merge_sort(arr, 0, len(arr)-1)\n",
        "print(arr)"
      ],
      "metadata": {
        "id": "jpWmbL5usNXM",
        "colab": {
          "base_uri": "https://localhost:8080/"
        },
        "outputId": "c1a33f01-737e-49fc-ae37-7363f2fab665"
      },
      "execution_count": 17,
      "outputs": [
        {
          "output_type": "stream",
          "name": "stdout",
          "text": [
            "[1, 1, 2, 2, 3, 4, 5, 6, 6]\n"
          ]
        }
      ]
    },
    {
      "cell_type": "markdown",
      "source": [
        "Quick Sort"
      ],
      "metadata": {
        "id": "tFH0708-DfcW"
      }
    },
    {
      "cell_type": "code",
      "source": [
        "def partition(arr, low, high):\n",
        "  pivot = arr[low]\n",
        "  i = low\n",
        "  j = high\n",
        "\n",
        "  while i<j:\n",
        "    while i<=high and arr[i] <= pivot:\n",
        "      i += 1\n",
        "    while arr[j] > pivot and j >= low:\n",
        "      j -= 1\n",
        "    if i < j:\n",
        "      arr[i], arr[j] = arr[j], arr[i]\n",
        "  arr[low], arr[j] = arr[j], arr[low]\n",
        "  return j\n",
        "\n",
        "def quick_sort(arr, low, high):\n",
        "  if low < high:\n",
        "    pivot = partition(arr, low, high)\n",
        "    quick_sort(arr, low, pivot-1)\n",
        "    quick_sort(arr, pivot+1, high)\n",
        "\n",
        "arr = [3, 1, 2, 4, 1, 5, 2, 6, 6]\n",
        "quick_sort(arr, 0, len(arr)-1)\n",
        "print(arr)"
      ],
      "metadata": {
        "id": "x8M6P3AM-vFL",
        "colab": {
          "base_uri": "https://localhost:8080/"
        },
        "outputId": "6e5295e2-a5f5-455b-ff04-99890667ef0b"
      },
      "execution_count": 18,
      "outputs": [
        {
          "output_type": "stream",
          "name": "stdout",
          "text": [
            "[1, 1, 2, 2, 3, 4, 5, 6, 6]\n"
          ]
        }
      ]
    },
    {
      "cell_type": "markdown",
      "source": [
        "# **Linked List**"
      ],
      "metadata": {
        "id": "ATQo695nEe-N"
      }
    },
    {
      "cell_type": "markdown",
      "source": [
        "Storing a linked list"
      ],
      "metadata": {
        "id": "-32zexQkA8Vi"
      }
    },
    {
      "cell_type": "code",
      "source": [
        "class Node:\n",
        "  def __init__(self, d, n = None):\n",
        "    self.data = d\n",
        "    self.next = n\n",
        "\n",
        "node = Node(10)\n",
        "print(node.data)"
      ],
      "metadata": {
        "id": "-sNuTBGvEg8q",
        "outputId": "1c5b92c0-0e03-49aa-d02e-328c881d1fd0",
        "colab": {
          "base_uri": "https://localhost:8080/"
        }
      },
      "execution_count": 19,
      "outputs": [
        {
          "output_type": "stream",
          "name": "stdout",
          "text": [
            "10\n"
          ]
        }
      ]
    },
    {
      "cell_type": "markdown",
      "source": [
        "Convert array to linked list"
      ],
      "metadata": {
        "id": "w0UMB0RuEehQ"
      }
    },
    {
      "cell_type": "code",
      "source": [
        "class Node:\n",
        "    def __init__(self, d, n = None):\n",
        "        self.data = d\n",
        "        self.next = n\n",
        "\n",
        "def convert_array_to_ll(arr):\n",
        "    head = Node(arr[0])\n",
        "    mover = head\n",
        "\n",
        "    for i in range(1, len(arr)):\n",
        "        temp = Node(arr[i])\n",
        "        mover.next = temp\n",
        "        mover = temp\n",
        "\n",
        "    return head\n",
        "\n",
        "arr = [1, 3, 2, 5, 8, 16]\n",
        "ll = convert_array_to_ll(arr)\n",
        "print(ll.data)"
      ],
      "metadata": {
        "id": "-QZfgU4LEkSs",
        "colab": {
          "base_uri": "https://localhost:8080/"
        },
        "outputId": "8c3d8722-f1c9-4b7f-ad16-95011a722b29"
      },
      "execution_count": 20,
      "outputs": [
        {
          "output_type": "stream",
          "name": "stdout",
          "text": [
            "1\n"
          ]
        }
      ]
    },
    {
      "cell_type": "markdown",
      "source": [
        "Traversing linked list"
      ],
      "metadata": {
        "id": "l-bCxokAGi1t"
      }
    },
    {
      "cell_type": "code",
      "source": [
        "class Node:\n",
        "    def __init__(self, d, n = None):\n",
        "        self.data = d\n",
        "        self.next = n\n",
        "\n",
        "def convert_array_to_ll(arr):\n",
        "    head = Node(arr[0])\n",
        "    mover = head\n",
        "\n",
        "    for i in range(1, len(arr)):\n",
        "        temp = Node(arr[i])\n",
        "        mover.next = temp\n",
        "        mover = temp\n",
        "\n",
        "    return head\n",
        "\n",
        "def traverse(head):\n",
        "    temp = head\n",
        "\n",
        "    while temp != None:\n",
        "        print(temp.data, end=' ')\n",
        "        temp = temp.next\n",
        "\n",
        "\n",
        "arr = [1, 3, 2, 5, 8, 16]\n",
        "ll = convert_array_to_ll(arr)\n",
        "traverse(ll)"
      ],
      "metadata": {
        "colab": {
          "base_uri": "https://localhost:8080/"
        },
        "id": "TFxq5WcSEcYC",
        "outputId": "700177d8-f8e4-441c-edfb-b78360188921"
      },
      "execution_count": 21,
      "outputs": [
        {
          "output_type": "stream",
          "name": "stdout",
          "text": [
            "1 3 2 5 8 16 "
          ]
        }
      ]
    },
    {
      "cell_type": "markdown",
      "source": [
        "Length of linked list"
      ],
      "metadata": {
        "id": "IpibRVfaKNc2"
      }
    },
    {
      "cell_type": "code",
      "source": [
        "class Node:\n",
        "    def __init__(self, d, n = None):\n",
        "        self.data = d\n",
        "        self.next = n\n",
        "\n",
        "def convert_array_to_ll(arr):\n",
        "    head = Node(arr[0])\n",
        "    mover = head\n",
        "\n",
        "    for i in range(1, len(arr)):\n",
        "        temp = Node(arr[i])\n",
        "        mover.next = temp\n",
        "        mover = temp\n",
        "\n",
        "    return head\n",
        "\n",
        "def ll_length(head):\n",
        "    count = 0\n",
        "    temp = head\n",
        "\n",
        "    while temp:\n",
        "        count += 1\n",
        "        temp = temp.next\n",
        "\n",
        "    return count\n",
        "\n",
        "arr = [1, 2, 3, 4, 5, 6, 7]\n",
        "ll = convert_array_to_ll(arr)\n",
        "print(ll_length(ll))"
      ],
      "metadata": {
        "colab": {
          "base_uri": "https://localhost:8080/"
        },
        "id": "CCpYAw6GGTxV",
        "outputId": "add393e6-395e-438e-bdf1-bc39c1b9fcc4"
      },
      "execution_count": 22,
      "outputs": [
        {
          "output_type": "stream",
          "name": "stdout",
          "text": [
            "7\n"
          ]
        }
      ]
    }
  ]
}