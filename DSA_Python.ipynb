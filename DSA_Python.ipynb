{
  "nbformat": 4,
  "nbformat_minor": 0,
  "metadata": {
    "colab": {
      "provenance": [],
      "authorship_tag": "ABX9TyM4Z6yjW/6v0Csh59fDTgLj",
      "include_colab_link": true
    },
    "kernelspec": {
      "name": "python3",
      "display_name": "Python 3"
    },
    "language_info": {
      "name": "python"
    }
  },
  "cells": [
    {
      "cell_type": "markdown",
      "metadata": {
        "id": "view-in-github",
        "colab_type": "text"
      },
      "source": [
        "<a href=\"https://colab.research.google.com/github/UTSAVsarkar/DSA_PYTHON/blob/main/DSA_Python.ipynb\" target=\"_parent\"><img src=\"https://colab.research.google.com/assets/colab-badge.svg\" alt=\"Open In Colab\"/></a>"
      ]
    },
    {
      "cell_type": "markdown",
      "source": [
        "# **SORTING**"
      ],
      "metadata": {
        "id": "wiDk0PlpoF3F"
      }
    },
    {
      "cell_type": "markdown",
      "source": [
        "Selection Sort"
      ],
      "metadata": {
        "id": "9RyQgoPPoKiD"
      }
    },
    {
      "cell_type": "code",
      "execution_count": null,
      "metadata": {
        "colab": {
          "base_uri": "https://localhost:8080/"
        },
        "id": "1KvDMxlEoCz1",
        "outputId": "8dbadc2d-59ca-4c3f-80b9-6554769017be"
      },
      "outputs": [
        {
          "output_type": "stream",
          "name": "stdout",
          "text": [
            "[9, 13, 20, 24, 52, 46]\n"
          ]
        }
      ],
      "source": [
        "def selection_sort(arr):\n",
        "  n = len(arr)\n",
        "\n",
        "  for i in range(0, n-2):\n",
        "    mini = i\n",
        "    for j in range(i+1, n):\n",
        "      if arr[j] < arr[mini]:\n",
        "        mini = j\n",
        "    arr[i], arr[mini] = arr[mini], arr[i]\n",
        "\n",
        "  return arr\n",
        "\n",
        "arr = [13, 46, 24, 52, 20, 9]\n",
        "print(selection_sort(arr))"
      ]
    },
    {
      "cell_type": "markdown",
      "source": [
        "Bubble Sort"
      ],
      "metadata": {
        "id": "cPtkIgEMtYIs"
      }
    },
    {
      "cell_type": "code",
      "source": [
        "def bubble_sort(arr):\n",
        "  n = len(arr)\n",
        "\n",
        "  for i in range(n-1):\n",
        "    for j in range(n-i-1):\n",
        "      if arr[j] > arr[j+1]:\n",
        "        arr[j], arr[j+1] = arr[j+1], arr[j]\n",
        "\n",
        "  return arr\n",
        "\n",
        "arr = [13, 46, 24, 52, 20, 9]\n",
        "print(bubble_sort(arr))"
      ],
      "metadata": {
        "colab": {
          "base_uri": "https://localhost:8080/"
        },
        "id": "3vfzQHh8ovZP",
        "outputId": "b47a1ee3-6b4f-486c-8712-bb0511d92d5a"
      },
      "execution_count": null,
      "outputs": [
        {
          "output_type": "stream",
          "name": "stdout",
          "text": [
            "[9, 13, 20, 24, 46, 52]\n"
          ]
        }
      ]
    },
    {
      "cell_type": "markdown",
      "source": [
        "Insertion Sort"
      ],
      "metadata": {
        "id": "1V6tMj9Rr9s2"
      }
    },
    {
      "cell_type": "code",
      "source": [
        "def insertion_sort(arr):\n",
        "  n = len(arr)\n",
        "\n",
        "  for i in range(n):\n",
        "    j = i\n",
        "    while j > 0 and arr[j-1] > arr[j]:\n",
        "      arr[j-1], arr[j] = arr[j], arr[j-1]\n",
        "      j -= 1\n",
        "\n",
        "  return arr\n",
        "\n",
        "arr = [13, 46, 24, 52, 20, 9]\n",
        "print(insertion_sort(arr))"
      ],
      "metadata": {
        "id": "JdcFY5CDszVA",
        "colab": {
          "base_uri": "https://localhost:8080/"
        },
        "outputId": "d2604a4e-e7c4-4f33-9dbb-379d165850b8"
      },
      "execution_count": null,
      "outputs": [
        {
          "output_type": "stream",
          "name": "stdout",
          "text": [
            "[9, 13, 20, 24, 46, 52]\n"
          ]
        }
      ]
    },
    {
      "cell_type": "markdown",
      "source": [
        "Merge Sort"
      ],
      "metadata": {
        "id": "o0299GzY9jPC"
      }
    },
    {
      "cell_type": "code",
      "source": [
        "def merge(arr, low, mid, high):\n",
        "  temp = []\n",
        "  left = low\n",
        "  right = mid+1\n",
        "\n",
        "  while left <= mid and right <= high:\n",
        "    if arr[left] <= arr[right]:\n",
        "      temp.append(arr[left])\n",
        "      left += 1\n",
        "    else:\n",
        "      temp.append(arr[right])\n",
        "      right += 1\n",
        "\n",
        "  while left <= mid:\n",
        "    temp.append(arr[left])\n",
        "    left += 1\n",
        "\n",
        "  while right <= high:\n",
        "    temp.append(arr[right])\n",
        "    right += 1\n",
        "\n",
        "  for i in range(low, high+1):\n",
        "    arr[i] = temp[i-low]\n",
        "\n",
        "def mergeSort(arr, low, high):\n",
        "  if low == high:\n",
        "    return\n",
        "\n",
        "  mid = (low+high)//2\n",
        "  mergeSort(arr, low, mid)\n",
        "  mergeSort(arr, mid+1, high)\n",
        "  merge(arr, low, mid, high)\n",
        "\n",
        "arr = [3, 1, 2, 4, 1, 5, 2, 6, 6]\n",
        "mergeSort(arr, 0, len(arr)-1)\n",
        "print(arr)"
      ],
      "metadata": {
        "id": "jpWmbL5usNXM",
        "colab": {
          "base_uri": "https://localhost:8080/"
        },
        "outputId": "c62e6d07-8d97-4983-adfa-fe75cc7f7853"
      },
      "execution_count": 5,
      "outputs": [
        {
          "output_type": "stream",
          "name": "stdout",
          "text": [
            "[1, 1, 2, 2, 3, 4, 5, 6, 6]\n"
          ]
        }
      ]
    },
    {
      "cell_type": "code",
      "source": [],
      "metadata": {
        "id": "x8M6P3AM-vFL"
      },
      "execution_count": null,
      "outputs": []
    }
  ]
}