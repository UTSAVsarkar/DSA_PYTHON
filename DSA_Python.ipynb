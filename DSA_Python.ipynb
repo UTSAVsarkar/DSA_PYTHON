{
  "nbformat": 4,
  "nbformat_minor": 0,
  "metadata": {
    "colab": {
      "provenance": [],
      "authorship_tag": "ABX9TyNkPVNEsgJv4f+2BGD88UQx",
      "include_colab_link": true
    },
    "kernelspec": {
      "name": "python3",
      "display_name": "Python 3"
    },
    "language_info": {
      "name": "python"
    }
  },
  "cells": [
    {
      "cell_type": "markdown",
      "metadata": {
        "id": "view-in-github",
        "colab_type": "text"
      },
      "source": [
        "<a href=\"https://colab.research.google.com/github/UTSAVsarkar/DSA_PYTHON/blob/main/DSA_Python.ipynb\" target=\"_parent\"><img src=\"https://colab.research.google.com/assets/colab-badge.svg\" alt=\"Open In Colab\"/></a>"
      ]
    },
    {
      "cell_type": "markdown",
      "source": [
        "# **SORTING**"
      ],
      "metadata": {
        "id": "wiDk0PlpoF3F"
      }
    },
    {
      "cell_type": "markdown",
      "source": [
        "Selection Sort"
      ],
      "metadata": {
        "id": "9RyQgoPPoKiD"
      }
    },
    {
      "cell_type": "code",
      "execution_count": 11,
      "metadata": {
        "colab": {
          "base_uri": "https://localhost:8080/"
        },
        "id": "1KvDMxlEoCz1",
        "outputId": "bab05718-f845-4cce-fa11-52a7099638a4"
      },
      "outputs": [
        {
          "output_type": "stream",
          "name": "stdout",
          "text": [
            "[9, 13, 20, 24, 52, 46]\n"
          ]
        }
      ],
      "source": [
        "def selection_sort(arr):\n",
        "  n = len(arr)\n",
        "\n",
        "  for i in range(0, n-2):\n",
        "    mini = i\n",
        "    for j in range(i+1, n):\n",
        "      if arr[j] < arr[mini]:\n",
        "        mini = j\n",
        "    arr[i], arr[mini] = arr[mini], arr[i]\n",
        "\n",
        "  return arr\n",
        "\n",
        "arr = [13, 46, 24, 52, 20, 9]\n",
        "print(selection_sort(arr))"
      ]
    },
    {
      "cell_type": "markdown",
      "source": [
        "Bubble Sort"
      ],
      "metadata": {
        "id": "cPtkIgEMtYIs"
      }
    },
    {
      "cell_type": "code",
      "source": [
        "def bubble_sort(arr):\n",
        "  n = len(arr)\n",
        "\n",
        "  for i in range(n-1):\n",
        "    for j in range(n-i-1):\n",
        "      if arr[j] > arr[j+1]:\n",
        "        arr[j], arr[j+1] = arr[j+1], arr[j]\n",
        "\n",
        "  return arr\n",
        "\n",
        "arr = [13, 46, 24, 52, 20, 9]\n",
        "print(bubble_sort(arr))"
      ],
      "metadata": {
        "colab": {
          "base_uri": "https://localhost:8080/"
        },
        "id": "3vfzQHh8ovZP",
        "outputId": "1bd5d60e-b425-4411-af05-0f78ec3d65d0"
      },
      "execution_count": 12,
      "outputs": [
        {
          "output_type": "stream",
          "name": "stdout",
          "text": [
            "[9, 13, 20, 24, 46, 52]\n"
          ]
        }
      ]
    },
    {
      "cell_type": "markdown",
      "source": [
        "Insertion Sort"
      ],
      "metadata": {
        "id": "1V6tMj9Rr9s2"
      }
    },
    {
      "cell_type": "code",
      "source": [
        "def insertion_sort(arr):\n",
        "  n = len(arr)\n",
        "\n",
        "  for i in range(n):\n",
        "    j = i\n",
        "    while j > 0 and arr[j-1] > arr[j]:\n",
        "      arr[j-1], arr[j] = arr[j], arr[j-1]\n",
        "      j -= 1\n",
        "\n",
        "  return arr\n",
        "\n",
        "arr = [13, 46, 24, 52, 20, 9]\n",
        "print(insertion_sort(arr))"
      ],
      "metadata": {
        "id": "JdcFY5CDszVA",
        "colab": {
          "base_uri": "https://localhost:8080/"
        },
        "outputId": "3ad3fa08-a307-4f74-d044-641f1ee04c25"
      },
      "execution_count": 13,
      "outputs": [
        {
          "output_type": "stream",
          "name": "stdout",
          "text": [
            "[9, 13, 20, 24, 46, 52]\n"
          ]
        }
      ]
    },
    {
      "cell_type": "markdown",
      "source": [
        "Merge Sort"
      ],
      "metadata": {
        "id": "o0299GzY9jPC"
      }
    },
    {
      "cell_type": "code",
      "source": [
        "def merge(arr, low, mid, high):\n",
        "  temp = []\n",
        "  left = low\n",
        "  right = mid+1\n",
        "\n",
        "  while left <= mid and right <= high:\n",
        "    if arr[left] <= arr[right]:\n",
        "      temp.append(arr[left])\n",
        "      left += 1\n",
        "    else:\n",
        "      temp.append(arr[right])\n",
        "      right += 1\n",
        "\n",
        "  while left <= mid:\n",
        "    temp.append(arr[left])\n",
        "    left += 1\n",
        "\n",
        "  while right <= high:\n",
        "    temp.append(arr[right])\n",
        "    right += 1\n",
        "\n",
        "  for i in range(low, high+1):\n",
        "    arr[i] = temp[i-low]\n",
        "\n",
        "def merge_sort(arr, low, high):\n",
        "  if low == high:\n",
        "    return\n",
        "\n",
        "  mid = (low+high)//2\n",
        "  merge_sort(arr, low, mid)\n",
        "  merge_sort(arr, mid+1, high)\n",
        "  merge(arr, low, mid, high)\n",
        "\n",
        "arr = [3, 1, 2, 4, 1, 5, 2, 6, 6]\n",
        "merge_sort(arr, 0, len(arr)-1)\n",
        "print(arr)"
      ],
      "metadata": {
        "id": "jpWmbL5usNXM",
        "colab": {
          "base_uri": "https://localhost:8080/"
        },
        "outputId": "c68e105d-0faa-44e3-b2fd-080d60400f1a"
      },
      "execution_count": 14,
      "outputs": [
        {
          "output_type": "stream",
          "name": "stdout",
          "text": [
            "[1, 1, 2, 2, 3, 4, 5, 6, 6]\n"
          ]
        }
      ]
    },
    {
      "cell_type": "markdown",
      "source": [
        "Quick Sort"
      ],
      "metadata": {
        "id": "tFH0708-DfcW"
      }
    },
    {
      "cell_type": "code",
      "source": [
        "def partition(arr, low, high):\n",
        "  pivot = arr[low]\n",
        "  i = low\n",
        "  j = high\n",
        "\n",
        "  while i<j:\n",
        "    while i<=high and arr[i] <= pivot:\n",
        "      i += 1\n",
        "    while arr[j] > pivot and j >= low:\n",
        "      j -= 1\n",
        "    if i < j:\n",
        "      arr[i], arr[j] = arr[j], arr[i]\n",
        "  arr[low], arr[j] = arr[j], arr[low]\n",
        "  return j\n",
        "\n",
        "def quick_sort(arr, low, high):\n",
        "  if low < high:\n",
        "    pivot = partition(arr, low, high)\n",
        "    quick_sort(arr, low, pivot-1)\n",
        "    quick_sort(arr, pivot+1, high)\n",
        "\n",
        "arr = [3, 1, 2, 4, 1, 5, 2, 6, 6]\n",
        "quick_sort(arr, 0, len(arr)-1)\n",
        "print(arr)"
      ],
      "metadata": {
        "id": "x8M6P3AM-vFL",
        "colab": {
          "base_uri": "https://localhost:8080/"
        },
        "outputId": "ade79ebf-118f-4fd2-8d19-10716402fb87"
      },
      "execution_count": 15,
      "outputs": [
        {
          "output_type": "stream",
          "name": "stdout",
          "text": [
            "[1, 1, 2, 2, 3, 4, 5, 6, 6]\n"
          ]
        }
      ]
    }
  ]
}