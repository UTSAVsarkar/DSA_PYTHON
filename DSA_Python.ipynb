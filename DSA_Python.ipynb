{
  "nbformat": 4,
  "nbformat_minor": 0,
  "metadata": {
    "colab": {
      "provenance": [],
      "authorship_tag": "ABX9TyOb03ShSLf7tz0DIMdfX0oo",
      "include_colab_link": true
    },
    "kernelspec": {
      "name": "python3",
      "display_name": "Python 3"
    },
    "language_info": {
      "name": "python"
    }
  },
  "cells": [
    {
      "cell_type": "markdown",
      "metadata": {
        "id": "view-in-github",
        "colab_type": "text"
      },
      "source": [
        "<a href=\"https://colab.research.google.com/github/UTSAVsarkar/DSA_PYTHON/blob/main/DSA_Python.ipynb\" target=\"_parent\"><img src=\"https://colab.research.google.com/assets/colab-badge.svg\" alt=\"Open In Colab\"/></a>"
      ]
    },
    {
      "cell_type": "markdown",
      "source": [
        "# **SORTING**"
      ],
      "metadata": {
        "id": "wiDk0PlpoF3F"
      }
    },
    {
      "cell_type": "markdown",
      "source": [
        "Selection Sort"
      ],
      "metadata": {
        "id": "9RyQgoPPoKiD"
      }
    },
    {
      "cell_type": "code",
      "execution_count": 3,
      "metadata": {
        "colab": {
          "base_uri": "https://localhost:8080/"
        },
        "id": "1KvDMxlEoCz1",
        "outputId": "49c6e631-be33-485f-d2fe-032488db700c"
      },
      "outputs": [
        {
          "output_type": "stream",
          "name": "stdout",
          "text": [
            "[9, 13, 20, 24, 52, 46]\n"
          ]
        }
      ],
      "source": [
        "def selection_sort(arr):\n",
        "  n = len(arr)\n",
        "\n",
        "  for i in range(0, n-2):\n",
        "    mini = i\n",
        "    for j in range(i+1, n):\n",
        "      if arr[j] < arr[mini]:\n",
        "        mini = j\n",
        "    arr[i], arr[mini] = arr[mini], arr[i]\n",
        "\n",
        "  return arr\n",
        "\n",
        "arr = [13, 46, 24, 52, 20, 9]\n",
        "print(selection_sort(arr))"
      ]
    },
    {
      "cell_type": "markdown",
      "source": [
        "Bubble Sort"
      ],
      "metadata": {
        "id": "cPtkIgEMtYIs"
      }
    },
    {
      "cell_type": "code",
      "source": [
        "def bubble_sort(arr):\n",
        "  n = len(arr)\n",
        "\n",
        "  for i in range(n-1):\n",
        "    for j in range(n-i-1):\n",
        "      if arr[j] > arr[j+1]:\n",
        "        arr[j], arr[j+1] = arr[j+1], arr[j]\n",
        "\n",
        "  return arr\n",
        "\n",
        "arr = [13, 46, 24, 52, 20, 9]\n",
        "print(bubble_sort(arr))"
      ],
      "metadata": {
        "colab": {
          "base_uri": "https://localhost:8080/"
        },
        "id": "3vfzQHh8ovZP",
        "outputId": "3a4d763f-8bfb-4961-b1e2-3589885ee11d"
      },
      "execution_count": 4,
      "outputs": [
        {
          "output_type": "stream",
          "name": "stdout",
          "text": [
            "[9, 13, 20, 24, 46, 52]\n"
          ]
        }
      ]
    },
    {
      "cell_type": "markdown",
      "source": [
        "Insertion Sort"
      ],
      "metadata": {
        "id": "1V6tMj9Rr9s2"
      }
    },
    {
      "cell_type": "code",
      "source": [
        "def insertion_sort(arr):\n",
        "  n = len(arr)\n",
        "\n",
        "  for i in range(n):\n",
        "    j = i\n",
        "    while j > 0 and arr[j-1] > arr[j]:\n",
        "      arr[j-1], arr[j] = arr[j], arr[j-1]\n",
        "      j -= 1\n",
        "\n",
        "  return arr\n",
        "\n",
        "arr = [13, 46, 24, 52, 20, 9]\n",
        "print(insertion_sort(arr))"
      ],
      "metadata": {
        "id": "JdcFY5CDszVA",
        "colab": {
          "base_uri": "https://localhost:8080/"
        },
        "outputId": "f04b4aa0-b2a5-4e74-b5c2-ad6935f8777d"
      },
      "execution_count": 5,
      "outputs": [
        {
          "output_type": "stream",
          "name": "stdout",
          "text": [
            "[9, 13, 20, 24, 46, 52]\n"
          ]
        }
      ]
    },
    {
      "cell_type": "markdown",
      "source": [
        "Merge Sort"
      ],
      "metadata": {
        "id": "o0299GzY9jPC"
      }
    },
    {
      "cell_type": "code",
      "source": [
        "def merge(arr, low, mid, high):\n",
        "  temp = []\n",
        "  left = low\n",
        "  right = mid+1\n",
        "\n",
        "  while left <= mid and right <= high:\n",
        "    if arr[left] <= arr[right]:\n",
        "      temp.append(arr[left])\n",
        "      left += 1\n",
        "    else:\n",
        "      temp.append(arr[right])\n",
        "      right += 1\n",
        "\n",
        "  while left <= mid:\n",
        "    temp.append(arr[left])\n",
        "    left += 1\n",
        "\n",
        "  while right <= high:\n",
        "    temp.append(arr[right])\n",
        "    right += 1\n",
        "\n",
        "  for i in range(low, high+1):\n",
        "    arr[i] = temp[i-low]\n",
        "\n",
        "def merge_sort(arr, low, high):\n",
        "  if low == high:\n",
        "    return\n",
        "\n",
        "  mid = (low+high)//2\n",
        "  merge_sort(arr, low, mid)\n",
        "  merge_sort(arr, mid+1, high)\n",
        "  merge(arr, low, mid, high)\n",
        "\n",
        "arr = [3, 1, 2, 4, 1, 5, 2, 6, 6]\n",
        "merge_sort(arr, 0, len(arr)-1)\n",
        "print(arr)"
      ],
      "metadata": {
        "id": "jpWmbL5usNXM",
        "colab": {
          "base_uri": "https://localhost:8080/"
        },
        "outputId": "acebc41d-91da-4b07-b118-36bec8e79b04"
      },
      "execution_count": 6,
      "outputs": [
        {
          "output_type": "stream",
          "name": "stdout",
          "text": [
            "[1, 1, 2, 2, 3, 4, 5, 6, 6]\n"
          ]
        }
      ]
    },
    {
      "cell_type": "markdown",
      "source": [
        "Quick Sort"
      ],
      "metadata": {
        "id": "tFH0708-DfcW"
      }
    },
    {
      "cell_type": "code",
      "source": [
        "def partition(arr, low, high):\n",
        "  pivot = arr[low]\n",
        "  i = low\n",
        "  j = high\n",
        "\n",
        "  while i<j:\n",
        "    while i<=high and arr[i] <= pivot:\n",
        "      i += 1\n",
        "    while arr[j] > pivot and j >= low:\n",
        "      j -= 1\n",
        "    if i < j:\n",
        "      arr[i], arr[j] = arr[j], arr[i]\n",
        "  arr[low], arr[j] = arr[j], arr[low]\n",
        "  return j\n",
        "\n",
        "def quick_sort(arr, low, high):\n",
        "  if low < high:\n",
        "    pivot = partition(arr, low, high)\n",
        "    quick_sort(arr, low, pivot-1)\n",
        "    quick_sort(arr, pivot+1, high)\n",
        "\n",
        "arr = [3, 1, 2, 4, 1, 5, 2, 6, 6]\n",
        "quick_sort(arr, 0, len(arr)-1)\n",
        "print(arr)"
      ],
      "metadata": {
        "id": "x8M6P3AM-vFL",
        "colab": {
          "base_uri": "https://localhost:8080/"
        },
        "outputId": "98290127-8806-4986-8a37-fd0ebed7df93"
      },
      "execution_count": 7,
      "outputs": [
        {
          "output_type": "stream",
          "name": "stdout",
          "text": [
            "[1, 1, 2, 2, 3, 4, 5, 6, 6]\n"
          ]
        }
      ]
    },
    {
      "cell_type": "markdown",
      "source": [
        "# **Linked List**"
      ],
      "metadata": {
        "id": "ATQo695nEe-N"
      }
    },
    {
      "cell_type": "markdown",
      "source": [
        "Storing a linked list"
      ],
      "metadata": {
        "id": "-32zexQkA8Vi"
      }
    },
    {
      "cell_type": "code",
      "source": [
        "class Node:\n",
        "  def __init__(self, d, n = None):\n",
        "    self.data = d\n",
        "    self.next = n\n",
        "\n",
        "node = Node(10)\n",
        "print(node.data)"
      ],
      "metadata": {
        "id": "-sNuTBGvEg8q",
        "outputId": "afd923aa-778d-4696-9157-ef5aca1ae116",
        "colab": {
          "base_uri": "https://localhost:8080/"
        }
      },
      "execution_count": 8,
      "outputs": [
        {
          "output_type": "stream",
          "name": "stdout",
          "text": [
            "10\n"
          ]
        }
      ]
    },
    {
      "cell_type": "markdown",
      "source": [
        "Convert array to linked list"
      ],
      "metadata": {
        "id": "w0UMB0RuEehQ"
      }
    },
    {
      "cell_type": "code",
      "source": [
        "class Node:\n",
        "    def __init__(self, d, n = None):\n",
        "        self.data = d\n",
        "        self.next = n\n",
        "\n",
        "def convert_array_to_ll(arr):\n",
        "    head = Node(arr[0])\n",
        "    mover = head\n",
        "\n",
        "    for i in range(1, len(arr)):\n",
        "        temp = Node(arr[i])\n",
        "        mover.next = temp\n",
        "        mover = temp\n",
        "\n",
        "    return head\n",
        "\n",
        "arr = [1, 3, 2, 5, 8, 16]\n",
        "ll = convert_array_to_ll(arr)\n",
        "print(ll.data)"
      ],
      "metadata": {
        "id": "-QZfgU4LEkSs",
        "colab": {
          "base_uri": "https://localhost:8080/"
        },
        "outputId": "f01e112f-2fba-45a3-ec92-1f3856ac572c"
      },
      "execution_count": 9,
      "outputs": [
        {
          "output_type": "stream",
          "name": "stdout",
          "text": [
            "1\n"
          ]
        }
      ]
    },
    {
      "cell_type": "markdown",
      "source": [
        "Traversing linked list"
      ],
      "metadata": {
        "id": "l-bCxokAGi1t"
      }
    },
    {
      "cell_type": "code",
      "source": [
        "class Node:\n",
        "    def __init__(self, d, n = None):\n",
        "        self.data = d\n",
        "        self.next = n\n",
        "\n",
        "def convert_array_to_ll(arr):\n",
        "    head = Node(arr[0])\n",
        "    mover = head\n",
        "\n",
        "    for i in range(1, len(arr)):\n",
        "        temp = Node(arr[i])\n",
        "        mover.next = temp\n",
        "        mover = temp\n",
        "\n",
        "    return head\n",
        "\n",
        "def traverse(head):\n",
        "    temp = head\n",
        "\n",
        "    while temp != None:\n",
        "        print(temp.data, end=' ')\n",
        "        temp = temp.next\n",
        "\n",
        "\n",
        "arr = [1, 3, 2, 5, 8, 16]\n",
        "ll = convert_array_to_ll(arr)\n",
        "traverse(ll)"
      ],
      "metadata": {
        "colab": {
          "base_uri": "https://localhost:8080/"
        },
        "id": "TFxq5WcSEcYC",
        "outputId": "6e74c8d9-333d-4d66-d03a-2b758f850591"
      },
      "execution_count": 10,
      "outputs": [
        {
          "output_type": "stream",
          "name": "stdout",
          "text": [
            "1 3 2 5 8 16 "
          ]
        }
      ]
    },
    {
      "cell_type": "markdown",
      "source": [
        "Length of linked list"
      ],
      "metadata": {
        "id": "IpibRVfaKNc2"
      }
    },
    {
      "cell_type": "code",
      "source": [
        "class Node:\n",
        "    def __init__(self, d, n = None):\n",
        "        self.data = d\n",
        "        self.next = n\n",
        "\n",
        "def convert_array_to_ll(arr):\n",
        "    head = Node(arr[0])\n",
        "    mover = head\n",
        "\n",
        "    for i in range(1, len(arr)):\n",
        "        temp = Node(arr[i])\n",
        "        mover.next = temp\n",
        "        mover = temp\n",
        "\n",
        "    return head\n",
        "\n",
        "def ll_length(head):\n",
        "    count = 0\n",
        "    temp = head\n",
        "\n",
        "    while temp:\n",
        "        count += 1\n",
        "        temp = temp.next\n",
        "\n",
        "    return count\n",
        "\n",
        "arr = [1, 2, 3, 4, 5, 6, 7]\n",
        "ll = convert_array_to_ll(arr)\n",
        "print(ll_length(ll))"
      ],
      "metadata": {
        "colab": {
          "base_uri": "https://localhost:8080/"
        },
        "id": "CCpYAw6GGTxV",
        "outputId": "39da79e7-68e3-4755-c8da-83bfcf6f58eb"
      },
      "execution_count": 11,
      "outputs": [
        {
          "output_type": "stream",
          "name": "stdout",
          "text": [
            "7\n"
          ]
        }
      ]
    },
    {
      "cell_type": "markdown",
      "source": [
        "Delete head"
      ],
      "metadata": {
        "id": "jeJCUxPEo5nr"
      }
    },
    {
      "cell_type": "code",
      "source": [
        "class Node:\n",
        "    def __init__(self, d, n = None):\n",
        "        self.data = d\n",
        "        self.next = n\n",
        "\n",
        "def traverse(head):\n",
        "    temp = head\n",
        "\n",
        "    while temp:\n",
        "        print(temp.data, end=' ')\n",
        "        temp = temp.next\n",
        "\n",
        "def convert_array_to_ll(arr):\n",
        "    head = Node(arr[0])\n",
        "    mover = head\n",
        "\n",
        "    for i in range(1, len(arr)):\n",
        "        node = Node(arr[i])\n",
        "        mover.next = node\n",
        "        mover = node\n",
        "\n",
        "    return head\n",
        "\n",
        "def delete_head(head):\n",
        "    temp = head\n",
        "    head = head.next\n",
        "    del temp\n",
        "\n",
        "    return head\n",
        "\n",
        "arr = [1, 2, 3, 4, 5, 6]\n",
        "head = convert_array_to_ll(arr)\n",
        "print(\"Before head delete:\")\n",
        "traverse(head)\n",
        "\n",
        "print(\"\\n\")\n",
        "\n",
        "print(\"After head deleter\")\n",
        "head = delete_head(head)\n",
        "traverse(head)"
      ],
      "metadata": {
        "colab": {
          "base_uri": "https://localhost:8080/"
        },
        "id": "oj8ribQpozt6",
        "outputId": "59a65096-2c78-4d17-dbcc-7566ec24bf82"
      },
      "execution_count": 12,
      "outputs": [
        {
          "output_type": "stream",
          "name": "stdout",
          "text": [
            "Before head delete:\n",
            "1 2 3 4 5 6 \n",
            "\n",
            "After head deleter\n",
            "2 3 4 5 6 "
          ]
        }
      ]
    },
    {
      "cell_type": "markdown",
      "source": [
        "Delete tail"
      ],
      "metadata": {
        "id": "kx-hWgZzsEoM"
      }
    },
    {
      "cell_type": "code",
      "source": [
        "class Node:\n",
        "    def __init__(self, d, n = None):\n",
        "        self.data = d\n",
        "        self.next = n\n",
        "\n",
        "def traverse(head):\n",
        "    temp = head\n",
        "\n",
        "    while temp:\n",
        "        print(temp.data, end=' ')\n",
        "        temp = temp.next\n",
        "\n",
        "def convert_array_to_ll(arr):\n",
        "    if arr == []:\n",
        "        return None\n",
        "\n",
        "    head = Node(arr[0])\n",
        "    mover = head\n",
        "\n",
        "    for i in range(1, len(arr)):\n",
        "        node = Node(arr[i])\n",
        "        mover.next = node\n",
        "        mover = node\n",
        "\n",
        "    return head\n",
        "\n",
        "def delete_tail(head):\n",
        "    if head == None or head.next == None:\n",
        "        return None\n",
        "\n",
        "    temp = head\n",
        "\n",
        "    while temp.next.next:\n",
        "        temp = temp.next\n",
        "\n",
        "    del temp.next\n",
        "    temp.next = None\n",
        "\n",
        "    return head\n",
        "\n",
        "arr = [1, 2, 3, 4, 5, 6]\n",
        "head = convert_array_to_ll(arr)\n",
        "\n",
        "print(\"Before deletion:\")\n",
        "traverse(head)\n",
        "\n",
        "head = delete_tail(head)\n",
        "print(\"\\n\")\n",
        "\n",
        "print(\"After deletion:\")\n",
        "traverse(head)"
      ],
      "metadata": {
        "colab": {
          "base_uri": "https://localhost:8080/"
        },
        "id": "MIH0YUzgo0qn",
        "outputId": "e26c8a21-45a0-4b3c-f99f-5763fe04b52d"
      },
      "execution_count": 13,
      "outputs": [
        {
          "output_type": "stream",
          "name": "stdout",
          "text": [
            "Before deletion:\n",
            "1 2 3 4 5 6 \n",
            "\n",
            "After deletion:\n",
            "1 2 3 4 5 "
          ]
        }
      ]
    },
    {
      "cell_type": "markdown",
      "source": [
        "Delete from k position"
      ],
      "metadata": {
        "id": "gjCCQsuzvu7x"
      }
    },
    {
      "cell_type": "code",
      "source": [
        "class Node:\n",
        "    def __init__(self, d, n = None):\n",
        "        self.data = d\n",
        "        self.next = n\n",
        "\n",
        "def traverse(head):\n",
        "    temp = head\n",
        "\n",
        "    while temp:\n",
        "        print(temp.data, end=' ')\n",
        "        temp = temp.next\n",
        "\n",
        "def convert_array_to_ll(arr):\n",
        "    if arr == []:\n",
        "        return None\n",
        "\n",
        "    head = Node(arr[0])\n",
        "    mover = head\n",
        "\n",
        "    for i in range(1, len(arr)):\n",
        "        node = Node(arr[i])\n",
        "        mover.next = node\n",
        "        mover = node\n",
        "\n",
        "    return head\n",
        "\n",
        "def delete_from_k(head, k):\n",
        "    if head == None:\n",
        "        return head\n",
        "\n",
        "    if k == 1:\n",
        "        temp = head\n",
        "        head = head.next\n",
        "        del temp\n",
        "\n",
        "        return head\n",
        "\n",
        "    cnt = 0\n",
        "    temp = head\n",
        "    prev = None\n",
        "\n",
        "    while temp:\n",
        "        cnt += 1\n",
        "\n",
        "        if cnt == k:\n",
        "            prev.next = prev.next.next\n",
        "            break\n",
        "\n",
        "        prev = temp\n",
        "        temp = temp.next\n",
        "\n",
        "    return head\n",
        "\n",
        "arr = [1, 2, 3, 4, 5, 6]\n",
        "head = convert_array_to_ll(arr)\n",
        "\n",
        "print(\"Before deletion:\")\n",
        "traverse(head)\n",
        "\n",
        "head = delete_from_k(head, 3)\n",
        "print(\"\\n\")\n",
        "\n",
        "print(\"After deletion:\")\n",
        "traverse(head)"
      ],
      "metadata": {
        "colab": {
          "base_uri": "https://localhost:8080/"
        },
        "id": "dBxQhQtNvr8G",
        "outputId": "e2b322e9-c546-4a27-8006-faace3696f27"
      },
      "execution_count": 14,
      "outputs": [
        {
          "output_type": "stream",
          "name": "stdout",
          "text": [
            "Before deletion:\n",
            "1 2 3 4 5 6 \n",
            "\n",
            "After deletion:\n",
            "1 2 4 5 6 "
          ]
        }
      ]
    },
    {
      "cell_type": "markdown",
      "source": [
        "Deletion by value"
      ],
      "metadata": {
        "id": "Zf-ML9WdxuOI"
      }
    },
    {
      "cell_type": "code",
      "source": [
        "class Node:\n",
        "    def __init__(self, d, n = None):\n",
        "        self.data = d\n",
        "        self.next = n\n",
        "\n",
        "def traverse(head):\n",
        "    temp = head\n",
        "\n",
        "    while temp:\n",
        "        print(temp.data, end=' ')\n",
        "        temp = temp.next\n",
        "\n",
        "def convert_array_to_ll(arr):\n",
        "    if arr == []:\n",
        "        return None\n",
        "\n",
        "    head = Node(arr[0])\n",
        "    mover = head\n",
        "\n",
        "    for i in range(1, len(arr)):\n",
        "        node = Node(arr[i])\n",
        "        mover.next = node\n",
        "        mover = node\n",
        "\n",
        "    return head\n",
        "\n",
        "def delete_value(head, val):\n",
        "    if head == None:\n",
        "        return None\n",
        "\n",
        "    if head.data == val:\n",
        "        temp = head\n",
        "        head = head.next\n",
        "        del temp\n",
        "\n",
        "        return head\n",
        "\n",
        "    prev = None\n",
        "    temp = head\n",
        "\n",
        "    while temp:\n",
        "        if temp.data == val:\n",
        "            prev.next = prev.next.next\n",
        "            break\n",
        "\n",
        "        prev = temp\n",
        "        temp = temp.next\n",
        "\n",
        "    return head\n",
        "\n",
        "\n",
        "arr = [1, 2, 3, 4, 5, 6]\n",
        "head = convert_array_to_ll(arr)\n",
        "\n",
        "print(\"Before deletion:\")\n",
        "traverse(head)\n",
        "\n",
        "head = delete_value(head, 4)\n",
        "print(\"\\n\")\n",
        "\n",
        "print(\"After deletion:\")\n",
        "traverse(head)"
      ],
      "metadata": {
        "colab": {
          "base_uri": "https://localhost:8080/"
        },
        "id": "RuDwAlX8vtXw",
        "outputId": "18a1f6a5-02e4-45fc-ffac-89848d09108b"
      },
      "execution_count": 15,
      "outputs": [
        {
          "output_type": "stream",
          "name": "stdout",
          "text": [
            "Before deletion:\n",
            "1 2 3 4 5 6 \n",
            "\n",
            "After deletion:\n",
            "1 2 3 5 6 "
          ]
        }
      ]
    },
    {
      "cell_type": "markdown",
      "source": [
        "Insert at head"
      ],
      "metadata": {
        "id": "gyH-a2pUozFX"
      }
    },
    {
      "cell_type": "code",
      "source": [
        "class Node:\n",
        "    def __init__(self, d, n = None):\n",
        "        self.data = d\n",
        "        self.next = n\n",
        "\n",
        "def traverse(head):\n",
        "    temp = head\n",
        "\n",
        "    while temp:\n",
        "        print(temp.data, end=' ')\n",
        "        temp = temp.next\n",
        "\n",
        "def convert_array_to_ll(arr):\n",
        "    if arr == []:\n",
        "        return None\n",
        "\n",
        "    head = Node(arr[0])\n",
        "    mover = head\n",
        "\n",
        "    for i in range(1, len(arr)):\n",
        "        node = Node(arr[i])\n",
        "        mover.next = node\n",
        "        mover = node\n",
        "\n",
        "    return head\n",
        "\n",
        "def insert_at_head(head, data):\n",
        "    temp = Node(data)\n",
        "    temp.next = head\n",
        "\n",
        "    return temp\n",
        "\n",
        "\n",
        "arr = [1, 2, 3, 4, 5, 6]\n",
        "head = convert_array_to_ll(arr)\n",
        "\n",
        "print(\"Before insertion:\")\n",
        "traverse(head)\n",
        "\n",
        "head = insert_at_head(head, 10)\n",
        "print(\"\\n\")\n",
        "\n",
        "print(\"After insertion:\")\n",
        "traverse(head)"
      ],
      "metadata": {
        "colab": {
          "base_uri": "https://localhost:8080/"
        },
        "id": "paCqRrOCxsjC",
        "outputId": "304eee1a-bbd9-481a-e1a9-580b7a25690f"
      },
      "execution_count": 16,
      "outputs": [
        {
          "output_type": "stream",
          "name": "stdout",
          "text": [
            "Before insertion:\n",
            "1 2 3 4 5 6 \n",
            "\n",
            "After insertion:\n",
            "10 1 2 3 4 5 6 "
          ]
        }
      ]
    },
    {
      "cell_type": "markdown",
      "source": [
        "Insert at tail"
      ],
      "metadata": {
        "id": "jq5qHHAZpaKo"
      }
    },
    {
      "cell_type": "code",
      "source": [
        "class Node:\n",
        "    def __init__(self, d, n = None):\n",
        "        self.data = d\n",
        "        self.next = n\n",
        "\n",
        "def traverse(head):\n",
        "    temp = head\n",
        "\n",
        "    while temp:\n",
        "        print(temp.data, end=' ')\n",
        "        temp = temp.next\n",
        "\n",
        "def convert_array_to_ll(arr):\n",
        "    if arr == []:\n",
        "        return None\n",
        "\n",
        "    head = Node(arr[0])\n",
        "    mover = head\n",
        "\n",
        "    for i in range(1, len(arr)):\n",
        "        node = Node(arr[i])\n",
        "        mover.next = node\n",
        "        mover = node\n",
        "\n",
        "    return head\n",
        "\n",
        "def insert_at_tail(head, data):\n",
        "    new_node = Node(data)\n",
        "    temp = head\n",
        "\n",
        "    while temp.next:\n",
        "        temp = temp.next\n",
        "\n",
        "    temp.next = new_node\n",
        "\n",
        "    return head\n",
        "\n",
        "\n",
        "arr = [1, 2, 3, 4, 5, 6]\n",
        "head = convert_array_to_ll(arr)\n",
        "\n",
        "print(\"Before insertion:\")\n",
        "traverse(head)\n",
        "\n",
        "head = insert_at_tail(head, 10)\n",
        "print(\"\\n\")\n",
        "\n",
        "print(\"After insertion:\")\n",
        "traverse(head)"
      ],
      "metadata": {
        "colab": {
          "base_uri": "https://localhost:8080/"
        },
        "id": "h3g7MTXIoryF",
        "outputId": "6f998b36-82d6-43c0-9180-e4bb48319089"
      },
      "execution_count": 17,
      "outputs": [
        {
          "output_type": "stream",
          "name": "stdout",
          "text": [
            "Before insertion:\n",
            "1 2 3 4 5 6 \n",
            "\n",
            "After insertion:\n",
            "1 2 3 4 5 6 10 "
          ]
        }
      ]
    },
    {
      "cell_type": "markdown",
      "source": [
        "Insert at k'th position"
      ],
      "metadata": {
        "id": "3WkhXaK0ytfH"
      }
    },
    {
      "cell_type": "code",
      "source": [
        "class Node:\n",
        "    def __init__(self, d, n = None):\n",
        "        self.data = d\n",
        "        self.next = n\n",
        "\n",
        "def traverse(head):\n",
        "    temp = head\n",
        "\n",
        "    while temp:\n",
        "        print(temp.data, end=' ')\n",
        "        temp = temp.next\n",
        "\n",
        "def convert_array_to_ll(arr):\n",
        "    if arr == []:\n",
        "        return None\n",
        "\n",
        "    head = Node(arr[0])\n",
        "    mover = head\n",
        "\n",
        "    for i in range(1, len(arr)):\n",
        "        node = Node(arr[i])\n",
        "        mover.next = node\n",
        "        mover = node\n",
        "\n",
        "    return head\n",
        "\n",
        "def insert_at_k(head, data, k):\n",
        "    node = Node(data)\n",
        "\n",
        "    if head == None:\n",
        "        return node\n",
        "\n",
        "    if k == 1:\n",
        "        node.next = head\n",
        "        return node\n",
        "\n",
        "    cnt = 0\n",
        "    temp = head\n",
        "\n",
        "    while temp:\n",
        "        cnt += 1\n",
        "\n",
        "        if cnt == k - 1:\n",
        "            node.next = temp.next\n",
        "            temp.next = node\n",
        "            break\n",
        "\n",
        "        temp = temp.next\n",
        "\n",
        "    return head\n",
        "\n",
        "\n",
        "arr = [1, 2, 3, 4, 5, 6]\n",
        "head = convert_array_to_ll(arr)\n",
        "\n",
        "print(\"Before insertion:\")\n",
        "traverse(head)\n",
        "\n",
        "head = insert_at_k(head, 10, 3)\n",
        "print(\"\\n\")\n",
        "\n",
        "print(\"After insertion:\")\n",
        "traverse(head)"
      ],
      "metadata": {
        "colab": {
          "base_uri": "https://localhost:8080/"
        },
        "id": "CB7zESY2pZGe",
        "outputId": "6399c95c-bf4a-460b-8e10-816ba4ddb996"
      },
      "execution_count": 18,
      "outputs": [
        {
          "output_type": "stream",
          "name": "stdout",
          "text": [
            "Before insertion:\n",
            "1 2 3 4 5 6 \n",
            "\n",
            "After insertion:\n",
            "1 2 10 3 4 5 6 "
          ]
        }
      ]
    },
    {
      "cell_type": "markdown",
      "source": [
        "Insert before a value"
      ],
      "metadata": {
        "id": "eb3in2Qn04mO"
      }
    },
    {
      "cell_type": "code",
      "source": [
        "class Node:\n",
        "    def __init__(self, d, n = None):\n",
        "        self.data = d\n",
        "        self.next = n\n",
        "\n",
        "def traverse(head):\n",
        "    temp = head\n",
        "\n",
        "    while temp:\n",
        "        print(temp.data, end=' ')\n",
        "        temp = temp.next\n",
        "\n",
        "def convert_array_to_ll(arr):\n",
        "    if arr == []:\n",
        "        return None\n",
        "\n",
        "    head = Node(arr[0])\n",
        "    mover = head\n",
        "\n",
        "    for i in range(1, len(arr)):\n",
        "        node = Node(arr[i])\n",
        "        mover.next = node\n",
        "        mover = node\n",
        "\n",
        "    return head\n",
        "\n",
        "def insert_before_value(head, data, val):\n",
        "    node = Node(data)\n",
        "\n",
        "    if head == None:\n",
        "        return head\n",
        "\n",
        "    if head.data == val:\n",
        "        node.next = head\n",
        "        return node\n",
        "\n",
        "    temp = head\n",
        "\n",
        "    while temp.next:\n",
        "        if temp.next.data == val:\n",
        "            node.next = temp.next\n",
        "            temp.next = node\n",
        "            return head\n",
        "\n",
        "        temp = temp.next\n",
        "\n",
        "    return head\n",
        "\n",
        "\n",
        "arr = [1, 2, 3, 4, 5, 6]\n",
        "head = convert_array_to_ll(arr)\n",
        "\n",
        "print(\"Before insertion:\")\n",
        "traverse(head)\n",
        "\n",
        "head = insert_before_value(head, 10, 4)\n",
        "print(\"\\n\")\n",
        "\n",
        "print(\"After insertion:\")\n",
        "traverse(head)"
      ],
      "metadata": {
        "colab": {
          "base_uri": "https://localhost:8080/"
        },
        "id": "VXcDW7tbynZm",
        "outputId": "846eda60-418b-4f92-ca65-b9bc889340c2"
      },
      "execution_count": 19,
      "outputs": [
        {
          "output_type": "stream",
          "name": "stdout",
          "text": [
            "Before insertion:\n",
            "1 2 3 4 5 6 \n",
            "\n",
            "After insertion:\n",
            "1 2 3 10 4 5 6 "
          ]
        }
      ]
    },
    {
      "cell_type": "code",
      "source": [],
      "metadata": {
        "id": "DTySqaAT02o9"
      },
      "execution_count": 19,
      "outputs": []
    }
  ]
}