{
  "nbformat": 4,
  "nbformat_minor": 0,
  "metadata": {
    "colab": {
      "provenance": [],
      "authorship_tag": "ABX9TyNkPVNEsgJv4f+2BGD88UQx",
      "include_colab_link": true
    },
    "kernelspec": {
      "name": "python3",
      "display_name": "Python 3"
    },
    "language_info": {
      "name": "python"
    }
  },
  "cells": [
    {
      "cell_type": "markdown",
      "metadata": {
        "id": "view-in-github",
        "colab_type": "text"
      },
      "source": [
        "<a href=\"https://colab.research.google.com/github/UTSAVsarkar/DSA_PYTHON/blob/main/DSA_Python.ipynb\" target=\"_parent\"><img src=\"https://colab.research.google.com/assets/colab-badge.svg\" alt=\"Open In Colab\"/></a>"
      ]
    },
    {
      "cell_type": "markdown",
      "source": [
        "# **SORTING**"
      ],
      "metadata": {
        "id": "wiDk0PlpoF3F"
      }
    },
    {
      "cell_type": "markdown",
      "source": [
        "Selection Sort"
      ],
      "metadata": {
        "id": "9RyQgoPPoKiD"
      }
    },
    {
      "cell_type": "code",
      "execution_count": 6,
      "metadata": {
        "colab": {
          "base_uri": "https://localhost:8080/"
        },
        "id": "1KvDMxlEoCz1",
        "outputId": "bfe10d3d-588b-4da0-fa9b-c9b68ba43638"
      },
      "outputs": [
        {
          "output_type": "stream",
          "name": "stdout",
          "text": [
            "[9, 13, 20, 24, 52, 46]\n"
          ]
        }
      ],
      "source": [
        "def selection_sort(arr):\n",
        "  n = len(arr)\n",
        "\n",
        "  for i in range(0, n-2):\n",
        "    mini = i\n",
        "    for j in range(i+1, n):\n",
        "      if arr[j] < arr[mini]:\n",
        "        mini = j\n",
        "    arr[i], arr[mini] = arr[mini], arr[i]\n",
        "\n",
        "  return arr\n",
        "\n",
        "arr = [13, 46, 24, 52, 20, 9]\n",
        "print(selection_sort(arr))"
      ]
    },
    {
      "cell_type": "markdown",
      "source": [
        "Bubble Sort"
      ],
      "metadata": {
        "id": "cPtkIgEMtYIs"
      }
    },
    {
      "cell_type": "code",
      "source": [
        "def bubble_sort(arr):\n",
        "  n = len(arr)\n",
        "\n",
        "  for i in range(n-1):\n",
        "    for j in range(n-i-1):\n",
        "      if arr[j] > arr[j+1]:\n",
        "        arr[j], arr[j+1] = arr[j+1], arr[j]\n",
        "\n",
        "  return arr\n",
        "\n",
        "arr = [13, 46, 24, 52, 20, 9]\n",
        "print(bubble_sort(arr))"
      ],
      "metadata": {
        "colab": {
          "base_uri": "https://localhost:8080/"
        },
        "id": "3vfzQHh8ovZP",
        "outputId": "4287ef55-4829-4610-a18f-ba2035eab697"
      },
      "execution_count": 7,
      "outputs": [
        {
          "output_type": "stream",
          "name": "stdout",
          "text": [
            "[9, 13, 20, 24, 46, 52]\n"
          ]
        }
      ]
    },
    {
      "cell_type": "markdown",
      "source": [
        "Insertion Sort"
      ],
      "metadata": {
        "id": "1V6tMj9Rr9s2"
      }
    },
    {
      "cell_type": "code",
      "source": [
        "def insertion_sort(arr):\n",
        "  n = len(arr)\n",
        "\n",
        "  for i in range(n):\n",
        "    j = i\n",
        "    while j > 0 and arr[j-1] > arr[j]:\n",
        "      arr[j-1], arr[j] = arr[j], arr[j-1]\n",
        "      j -= 1\n",
        "\n",
        "  return arr\n",
        "\n",
        "arr = [13, 46, 24, 52, 20, 9]\n",
        "print(insertion_sort(arr))"
      ],
      "metadata": {
        "id": "JdcFY5CDszVA",
        "colab": {
          "base_uri": "https://localhost:8080/"
        },
        "outputId": "e4bba61c-8713-4170-c167-164326134dab"
      },
      "execution_count": 8,
      "outputs": [
        {
          "output_type": "stream",
          "name": "stdout",
          "text": [
            "[9, 13, 20, 24, 46, 52]\n"
          ]
        }
      ]
    },
    {
      "cell_type": "markdown",
      "source": [
        "Merge Sort"
      ],
      "metadata": {
        "id": "o0299GzY9jPC"
      }
    },
    {
      "cell_type": "code",
      "source": [
        "def merge(arr, low, mid, high):\n",
        "  temp = []\n",
        "  left = low\n",
        "  right = mid+1\n",
        "\n",
        "  while left <= mid and right <= high:\n",
        "    if arr[left] <= arr[right]:\n",
        "      temp.append(arr[left])\n",
        "      left += 1\n",
        "    else:\n",
        "      temp.append(arr[right])\n",
        "      right += 1\n",
        "\n",
        "  while left <= mid:\n",
        "    temp.append(arr[left])\n",
        "    left += 1\n",
        "\n",
        "  while right <= high:\n",
        "    temp.append(arr[right])\n",
        "    right += 1\n",
        "\n",
        "  for i in range(low, high+1):\n",
        "    arr[i] = temp[i-low]\n",
        "\n",
        "def merge_sort(arr, low, high):\n",
        "  if low == high:\n",
        "    return\n",
        "\n",
        "  mid = (low+high)//2\n",
        "  merge_sort(arr, low, mid)\n",
        "  merge_sort(arr, mid+1, high)\n",
        "  merge(arr, low, mid, high)\n",
        "\n",
        "arr = [3, 1, 2, 4, 1, 5, 2, 6, 6]\n",
        "merge_sort(arr, 0, len(arr)-1)\n",
        "print(arr)"
      ],
      "metadata": {
        "id": "jpWmbL5usNXM",
        "colab": {
          "base_uri": "https://localhost:8080/"
        },
        "outputId": "b48bcf85-058b-42f7-abd0-0cb00a7cf016"
      },
      "execution_count": 9,
      "outputs": [
        {
          "output_type": "stream",
          "name": "stdout",
          "text": [
            "[1, 1, 2, 2, 3, 4, 5, 6, 6]\n"
          ]
        }
      ]
    },
    {
      "cell_type": "markdown",
      "source": [
        "Quick Sort"
      ],
      "metadata": {
        "id": "tFH0708-DfcW"
      }
    },
    {
      "cell_type": "code",
      "source": [
        "def partition(arr, low, high):\n",
        "  pivot = arr[low]\n",
        "  i = low\n",
        "  j = high\n",
        "\n",
        "  while i<j:\n",
        "    while i<=high and arr[i] <= pivot:\n",
        "      i += 1\n",
        "    while arr[j] > pivot and j >= low:\n",
        "      j -= 1\n",
        "    if i < j:\n",
        "      arr[i], arr[j] = arr[j], arr[i]\n",
        "  arr[low], arr[j] = arr[j], arr[low]\n",
        "  return j\n",
        "\n",
        "def quick_sort(arr, low, high):\n",
        "  if low < high:\n",
        "    pivot = partition(arr, low, high)\n",
        "    quick_sort(arr, low, pivot-1)\n",
        "    quick_sort(arr, pivot+1, high)\n",
        "\n",
        "arr = [3, 1, 2, 4, 1, 5, 2, 6, 6]\n",
        "quick_sort(arr, 0, len(arr)-1)\n",
        "print(arr)"
      ],
      "metadata": {
        "id": "x8M6P3AM-vFL",
        "colab": {
          "base_uri": "https://localhost:8080/"
        },
        "outputId": "4dfe2e62-40d8-4bbe-c214-551ce3330e21"
      },
      "execution_count": 10,
      "outputs": [
        {
          "output_type": "stream",
          "name": "stdout",
          "text": [
            "[1, 1, 2, 2, 3, 4, 5, 6, 6]\n"
          ]
        }
      ]
    }
  ]
}